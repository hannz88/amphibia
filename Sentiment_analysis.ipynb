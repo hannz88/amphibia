{
 "cells": [
  {
   "cell_type": "markdown",
   "metadata": {
    "pycharm": {
     "name": "#%% md\n"
    }
   },
   "source": [
    "# Sentiment analysis of dialogue"
   ]
  },
  {
   "cell_type": "code",
   "execution_count": 1,
   "metadata": {
    "collapsed": false,
    "jupyter": {
     "outputs_hidden": false
    },
    "pycharm": {
     "name": "#%%\n"
    }
   },
   "outputs": [],
   "source": [
    "# import library\n",
    "import pandas as pd\n",
    "import numpy\n",
    "from transformers import pipeline"
   ]
  },
  {
   "cell_type": "markdown",
   "metadata": {
    "pycharm": {
     "name": "#%% md\n"
    }
   },
   "source": [
    "# Import file"
   ]
  },
  {
   "cell_type": "code",
   "execution_count": 2,
   "metadata": {
    "collapsed": false,
    "jupyter": {
     "outputs_hidden": false
    },
    "pycharm": {
     "name": "#%%\n"
    }
   },
   "outputs": [
    {
     "data": {
      "text/html": [
       "<div>\n",
       "<style scoped>\n",
       "    .dataframe tbody tr th:only-of-type {\n",
       "        vertical-align: middle;\n",
       "    }\n",
       "\n",
       "    .dataframe tbody tr th {\n",
       "        vertical-align: top;\n",
       "    }\n",
       "\n",
       "    .dataframe thead th {\n",
       "        text-align: right;\n",
       "    }\n",
       "</style>\n",
       "<table border=\"1\" class=\"dataframe\">\n",
       "  <thead>\n",
       "    <tr style=\"text-align: right;\">\n",
       "      <th></th>\n",
       "      <th>Speaker</th>\n",
       "      <th>Dialogue</th>\n",
       "      <th>Dialogue_num_in_eps</th>\n",
       "      <th>Episode_url</th>\n",
       "      <th>Episode #</th>\n",
       "      <th>Segment</th>\n",
       "      <th>Disney</th>\n",
       "      <th>Prod.</th>\n",
       "      <th>Title</th>\n",
       "      <th>Synopsis</th>\n",
       "      <th>Airdate</th>\n",
       "      <th>Viewers (millions)</th>\n",
       "      <th>Season</th>\n",
       "      <th>new_dialogue_index_in_eps</th>\n",
       "      <th>Ratings_imdb</th>\n",
       "      <th>Voter_count_imdb</th>\n",
       "      <th>Row number</th>\n",
       "    </tr>\n",
       "  </thead>\n",
       "  <tbody>\n",
       "    <tr>\n",
       "      <th>0</th>\n",
       "      <td>Hop Pop</td>\n",
       "      <td>Ho. Ho. (Turns around.) All right, kids I'm go...</td>\n",
       "      <td>16</td>\n",
       "      <td>https://amphibia.fandom.com/wiki/Anne_or_Beast...</td>\n",
       "      <td>1</td>\n",
       "      <td>1a</td>\n",
       "      <td>103</td>\n",
       "      <td>TBA</td>\n",
       "      <td>Anne or Beast?</td>\n",
       "      <td>Sprig tries to capture a mysterious beast to p...</td>\n",
       "      <td>June 17, 2019</td>\n",
       "      <td>0.39</td>\n",
       "      <td>1</td>\n",
       "      <td>1</td>\n",
       "      <td>7.8</td>\n",
       "      <td>472</td>\n",
       "      <td>1</td>\n",
       "    </tr>\n",
       "    <tr>\n",
       "      <th>1</th>\n",
       "      <td>Sprig</td>\n",
       "      <td>You got it, Hop Pop! I'll defend this cart wit...</td>\n",
       "      <td>17</td>\n",
       "      <td>https://amphibia.fandom.com/wiki/Anne_or_Beast...</td>\n",
       "      <td>1</td>\n",
       "      <td>1a</td>\n",
       "      <td>103</td>\n",
       "      <td>TBA</td>\n",
       "      <td>Anne or Beast?</td>\n",
       "      <td>Sprig tries to capture a mysterious beast to p...</td>\n",
       "      <td>June 17, 2019</td>\n",
       "      <td>0.39</td>\n",
       "      <td>1</td>\n",
       "      <td>2</td>\n",
       "      <td>7.8</td>\n",
       "      <td>472</td>\n",
       "      <td>1</td>\n",
       "    </tr>\n",
       "    <tr>\n",
       "      <th>2</th>\n",
       "      <td>Hop Pop</td>\n",
       "      <td>Sprig, I was talking to Polly.</td>\n",
       "      <td>18</td>\n",
       "      <td>https://amphibia.fandom.com/wiki/Anne_or_Beast...</td>\n",
       "      <td>1</td>\n",
       "      <td>1a</td>\n",
       "      <td>103</td>\n",
       "      <td>TBA</td>\n",
       "      <td>Anne or Beast?</td>\n",
       "      <td>Sprig tries to capture a mysterious beast to p...</td>\n",
       "      <td>June 17, 2019</td>\n",
       "      <td>0.39</td>\n",
       "      <td>1</td>\n",
       "      <td>3</td>\n",
       "      <td>7.8</td>\n",
       "      <td>472</td>\n",
       "      <td>1</td>\n",
       "    </tr>\n",
       "    <tr>\n",
       "      <th>3</th>\n",
       "      <td>Sprig</td>\n",
       "      <td>What? Polly's a baby!</td>\n",
       "      <td>19</td>\n",
       "      <td>https://amphibia.fandom.com/wiki/Anne_or_Beast...</td>\n",
       "      <td>1</td>\n",
       "      <td>1a</td>\n",
       "      <td>103</td>\n",
       "      <td>TBA</td>\n",
       "      <td>Anne or Beast?</td>\n",
       "      <td>Sprig tries to capture a mysterious beast to p...</td>\n",
       "      <td>June 17, 2019</td>\n",
       "      <td>0.39</td>\n",
       "      <td>1</td>\n",
       "      <td>4</td>\n",
       "      <td>7.8</td>\n",
       "      <td>472</td>\n",
       "      <td>1</td>\n",
       "    </tr>\n",
       "    <tr>\n",
       "      <th>4</th>\n",
       "      <td>Polly</td>\n",
       "      <td>(points at Sprig) You're a baby!</td>\n",
       "      <td>20</td>\n",
       "      <td>https://amphibia.fandom.com/wiki/Anne_or_Beast...</td>\n",
       "      <td>1</td>\n",
       "      <td>1a</td>\n",
       "      <td>103</td>\n",
       "      <td>TBA</td>\n",
       "      <td>Anne or Beast?</td>\n",
       "      <td>Sprig tries to capture a mysterious beast to p...</td>\n",
       "      <td>June 17, 2019</td>\n",
       "      <td>0.39</td>\n",
       "      <td>1</td>\n",
       "      <td>5</td>\n",
       "      <td>7.8</td>\n",
       "      <td>472</td>\n",
       "      <td>1</td>\n",
       "    </tr>\n",
       "  </tbody>\n",
       "</table>\n",
       "</div>"
      ],
      "text/plain": [
       "   Speaker                                           Dialogue  \\\n",
       "0  Hop Pop  Ho. Ho. (Turns around.) All right, kids I'm go...   \n",
       "1    Sprig  You got it, Hop Pop! I'll defend this cart wit...   \n",
       "2  Hop Pop                     Sprig, I was talking to Polly.   \n",
       "3    Sprig                              What? Polly's a baby!   \n",
       "4    Polly                   (points at Sprig) You're a baby!   \n",
       "\n",
       "   Dialogue_num_in_eps                                        Episode_url  \\\n",
       "0                   16  https://amphibia.fandom.com/wiki/Anne_or_Beast...   \n",
       "1                   17  https://amphibia.fandom.com/wiki/Anne_or_Beast...   \n",
       "2                   18  https://amphibia.fandom.com/wiki/Anne_or_Beast...   \n",
       "3                   19  https://amphibia.fandom.com/wiki/Anne_or_Beast...   \n",
       "4                   20  https://amphibia.fandom.com/wiki/Anne_or_Beast...   \n",
       "\n",
       "   Episode # Segment  Disney Prod.           Title  \\\n",
       "0          1      1a     103   TBA  Anne or Beast?   \n",
       "1          1      1a     103   TBA  Anne or Beast?   \n",
       "2          1      1a     103   TBA  Anne or Beast?   \n",
       "3          1      1a     103   TBA  Anne or Beast?   \n",
       "4          1      1a     103   TBA  Anne or Beast?   \n",
       "\n",
       "                                            Synopsis        Airdate  \\\n",
       "0  Sprig tries to capture a mysterious beast to p...  June 17, 2019   \n",
       "1  Sprig tries to capture a mysterious beast to p...  June 17, 2019   \n",
       "2  Sprig tries to capture a mysterious beast to p...  June 17, 2019   \n",
       "3  Sprig tries to capture a mysterious beast to p...  June 17, 2019   \n",
       "4  Sprig tries to capture a mysterious beast to p...  June 17, 2019   \n",
       "\n",
       "   Viewers (millions)  Season  new_dialogue_index_in_eps  Ratings_imdb  \\\n",
       "0                0.39       1                          1           7.8   \n",
       "1                0.39       1                          2           7.8   \n",
       "2                0.39       1                          3           7.8   \n",
       "3                0.39       1                          4           7.8   \n",
       "4                0.39       1                          5           7.8   \n",
       "\n",
       "  Voter_count_imdb  Row number  \n",
       "0              472           1  \n",
       "1              472           1  \n",
       "2              472           1  \n",
       "3              472           1  \n",
       "4              472           1  "
      ]
     },
     "execution_count": 2,
     "metadata": {},
     "output_type": "execute_result"
    }
   ],
   "source": [
    "# file\n",
    "dialogues_df = pd.read_excel(\"../final_cleaned.xlsx\")\n",
    "dialogues_df.head()"
   ]
  },
  {
   "cell_type": "markdown",
   "metadata": {
    "pycharm": {
     "name": "#%% md\n"
    }
   },
   "source": [
    "## Experimentation"
   ]
  },
  {
   "cell_type": "code",
   "execution_count": 3,
   "metadata": {
    "collapsed": false,
    "jupyter": {
     "outputs_hidden": false
    },
    "pycharm": {
     "name": "#%%\n"
    }
   },
   "outputs": [],
   "source": [
    "dialogue_data = dialogues_df[\"Dialogue\"].to_list()"
   ]
  },
  {
   "cell_type": "code",
   "execution_count": 7,
   "metadata": {
    "collapsed": false,
    "jupyter": {
     "outputs_hidden": false
    },
    "pycharm": {
     "name": "#%%\n"
    }
   },
   "outputs": [
    {
     "data": {
      "text/plain": [
       "[\"Ho. Ho. (Turns around.) All right, kids I'm gonna do a little shoppin'. You watch the cart.\",\n",
       " \"You got it, Hop Pop! I'll defend this cart with my LIIIIIIIFE! (says life while pounding his chest.)\"]"
      ]
     },
     "execution_count": 7,
     "metadata": {},
     "output_type": "execute_result"
    }
   ],
   "source": [
    "dialogue_data[:2]"
   ]
  },
  {
   "cell_type": "code",
   "execution_count": 16,
   "metadata": {
    "collapsed": false,
    "jupyter": {
     "outputs_hidden": false
    },
    "pycharm": {
     "name": "#%%\n"
    }
   },
   "outputs": [
    {
     "name": "stderr",
     "output_type": "stream",
     "text": [
      "No model was supplied, defaulted to distilbert-base-uncased-finetuned-sst-2-english and revision af0f99b (https://huggingface.co/distilbert-base-uncased-finetuned-sst-2-english).\n",
      "Using a pipeline without specifying a model name and revision in production is not recommended.\n"
     ]
    }
   ],
   "source": [
    "sentiment_pipeline = pipeline(task = \"sentiment-analysis\")\n",
    "data =  dialogue_data[:2]\n",
    "output = sentiment_pipeline(data)"
   ]
  },
  {
   "cell_type": "code",
   "execution_count": 17,
   "metadata": {
    "collapsed": false,
    "jupyter": {
     "outputs_hidden": false
    },
    "pycharm": {
     "name": "#%%\n"
    }
   },
   "outputs": [
    {
     "data": {
      "text/html": [
       "<div>\n",
       "<style scoped>\n",
       "    .dataframe tbody tr th:only-of-type {\n",
       "        vertical-align: middle;\n",
       "    }\n",
       "\n",
       "    .dataframe tbody tr th {\n",
       "        vertical-align: top;\n",
       "    }\n",
       "\n",
       "    .dataframe thead th {\n",
       "        text-align: right;\n",
       "    }\n",
       "</style>\n",
       "<table border=\"1\" class=\"dataframe\">\n",
       "  <thead>\n",
       "    <tr style=\"text-align: right;\">\n",
       "      <th></th>\n",
       "      <th>label</th>\n",
       "      <th>score</th>\n",
       "    </tr>\n",
       "  </thead>\n",
       "  <tbody>\n",
       "    <tr>\n",
       "      <th>0</th>\n",
       "      <td>POSITIVE</td>\n",
       "      <td>0.998776</td>\n",
       "    </tr>\n",
       "    <tr>\n",
       "      <th>1</th>\n",
       "      <td>POSITIVE</td>\n",
       "      <td>0.998171</td>\n",
       "    </tr>\n",
       "  </tbody>\n",
       "</table>\n",
       "</div>"
      ],
      "text/plain": [
       "      label     score\n",
       "0  POSITIVE  0.998776\n",
       "1  POSITIVE  0.998171"
      ]
     },
     "execution_count": 17,
     "metadata": {},
     "output_type": "execute_result"
    }
   ],
   "source": [
    "pd.DataFrame(output)"
   ]
  },
  {
   "cell_type": "markdown",
   "metadata": {
    "pycharm": {
     "name": "#%% md\n"
    }
   },
   "source": [
    "## Actual data"
   ]
  },
  {
   "cell_type": "code",
   "execution_count": 25,
   "metadata": {
    "collapsed": false,
    "jupyter": {
     "outputs_hidden": false
    },
    "pycharm": {
     "name": "#%%\n"
    }
   },
   "outputs": [],
   "source": [
    "# replace nan with empty string\n",
    "dialogues_df.Dialogue = dialogues_df.Dialogue.fillna('')"
   ]
  },
  {
   "cell_type": "code",
   "execution_count": 26,
   "metadata": {
    "collapsed": false,
    "jupyter": {
     "outputs_hidden": false
    },
    "pycharm": {
     "name": "#%%\n"
    }
   },
   "outputs": [],
   "source": [
    "dialogue_data = dialogues_df.Dialogue.to_list()"
   ]
  },
  {
   "cell_type": "code",
   "execution_count": 27,
   "metadata": {
    "collapsed": false,
    "jupyter": {
     "outputs_hidden": false
    },
    "pycharm": {
     "name": "#%%\n"
    }
   },
   "outputs": [],
   "source": [
    "error_dialogue = []\n",
    "for dialogue in dialogue_data:\n",
    "    try:\n",
    "        tmp_result = sentiment_pipeline(dialogue)\n",
    "    except:\n",
    "        error_dialogue.append(dialogue)\n",
    "        pass"
   ]
  },
  {
   "cell_type": "code",
   "execution_count": 28,
   "metadata": {
    "collapsed": false,
    "jupyter": {
     "outputs_hidden": false
    },
    "pycharm": {
     "name": "#%%\n"
    }
   },
   "outputs": [
    {
     "data": {
      "text/plain": [
       "[]"
      ]
     },
     "execution_count": 28,
     "metadata": {},
     "output_type": "execute_result"
    }
   ],
   "source": [
    "error_dialogue"
   ]
  },
  {
   "cell_type": "code",
   "execution_count": 29,
   "metadata": {
    "collapsed": false,
    "jupyter": {
     "outputs_hidden": false
    },
    "pycharm": {
     "name": "#%%\n"
    }
   },
   "outputs": [
    {
     "data": {
      "text/html": [
       "<div>\n",
       "<style scoped>\n",
       "    .dataframe tbody tr th:only-of-type {\n",
       "        vertical-align: middle;\n",
       "    }\n",
       "\n",
       "    .dataframe tbody tr th {\n",
       "        vertical-align: top;\n",
       "    }\n",
       "\n",
       "    .dataframe thead th {\n",
       "        text-align: right;\n",
       "    }\n",
       "</style>\n",
       "<table border=\"1\" class=\"dataframe\">\n",
       "  <thead>\n",
       "    <tr style=\"text-align: right;\">\n",
       "      <th></th>\n",
       "      <th>Speaker</th>\n",
       "      <th>Dialogue</th>\n",
       "      <th>Dialogue_num_in_eps</th>\n",
       "      <th>Episode_url</th>\n",
       "      <th>Episode #</th>\n",
       "      <th>Segment</th>\n",
       "      <th>Disney</th>\n",
       "      <th>Prod.</th>\n",
       "      <th>Title</th>\n",
       "      <th>Synopsis</th>\n",
       "      <th>Airdate</th>\n",
       "      <th>Viewers (millions)</th>\n",
       "      <th>Season</th>\n",
       "      <th>new_dialogue_index_in_eps</th>\n",
       "      <th>Ratings_imdb</th>\n",
       "      <th>Voter_count_imdb</th>\n",
       "      <th>Row number</th>\n",
       "    </tr>\n",
       "  </thead>\n",
       "  <tbody>\n",
       "  </tbody>\n",
       "</table>\n",
       "</div>"
      ],
      "text/plain": [
       "Empty DataFrame\n",
       "Columns: [Speaker, Dialogue, Dialogue_num_in_eps, Episode_url, Episode #, Segment, Disney, Prod., Title, Synopsis, Airdate, Viewers (millions), Season, new_dialogue_index_in_eps, Ratings_imdb, Voter_count_imdb, Row number]\n",
       "Index: []"
      ]
     },
     "execution_count": 29,
     "metadata": {},
     "output_type": "execute_result"
    }
   ],
   "source": [
    "dialogues_df[dialogues_df[\"Dialogue\"].isna()]"
   ]
  },
  {
   "cell_type": "code",
   "execution_count": 30,
   "metadata": {
    "collapsed": false,
    "jupyter": {
     "outputs_hidden": false
    },
    "pycharm": {
     "name": "#%%\n"
    }
   },
   "outputs": [
    {
     "name": "stderr",
     "output_type": "stream",
     "text": [
      "No model was supplied, defaulted to distilbert-base-uncased-finetuned-sst-2-english and revision af0f99b (https://huggingface.co/distilbert-base-uncased-finetuned-sst-2-english).\n",
      "Using a pipeline without specifying a model name and revision in production is not recommended.\n"
     ]
    }
   ],
   "source": [
    "sentiment_pipeline = pipeline(task = \"sentiment-analysis\")\n",
    "output = sentiment_pipeline(dialogue_data)"
   ]
  },
  {
   "cell_type": "code",
   "execution_count": 31,
   "metadata": {
    "collapsed": false,
    "jupyter": {
     "outputs_hidden": false
    },
    "pycharm": {
     "name": "#%%\n"
    }
   },
   "outputs": [
    {
     "data": {
      "text/html": [
       "<div>\n",
       "<style scoped>\n",
       "    .dataframe tbody tr th:only-of-type {\n",
       "        vertical-align: middle;\n",
       "    }\n",
       "\n",
       "    .dataframe tbody tr th {\n",
       "        vertical-align: top;\n",
       "    }\n",
       "\n",
       "    .dataframe thead th {\n",
       "        text-align: right;\n",
       "    }\n",
       "</style>\n",
       "<table border=\"1\" class=\"dataframe\">\n",
       "  <thead>\n",
       "    <tr style=\"text-align: right;\">\n",
       "      <th></th>\n",
       "      <th>label</th>\n",
       "      <th>score</th>\n",
       "    </tr>\n",
       "  </thead>\n",
       "  <tbody>\n",
       "    <tr>\n",
       "      <th>0</th>\n",
       "      <td>POSITIVE</td>\n",
       "      <td>0.998776</td>\n",
       "    </tr>\n",
       "    <tr>\n",
       "      <th>1</th>\n",
       "      <td>POSITIVE</td>\n",
       "      <td>0.998171</td>\n",
       "    </tr>\n",
       "    <tr>\n",
       "      <th>2</th>\n",
       "      <td>POSITIVE</td>\n",
       "      <td>0.980007</td>\n",
       "    </tr>\n",
       "    <tr>\n",
       "      <th>3</th>\n",
       "      <td>POSITIVE</td>\n",
       "      <td>0.991327</td>\n",
       "    </tr>\n",
       "    <tr>\n",
       "      <th>4</th>\n",
       "      <td>POSITIVE</td>\n",
       "      <td>0.999678</td>\n",
       "    </tr>\n",
       "    <tr>\n",
       "      <th>...</th>\n",
       "      <td>...</td>\n",
       "      <td>...</td>\n",
       "    </tr>\n",
       "    <tr>\n",
       "      <th>6231</th>\n",
       "      <td>POSITIVE</td>\n",
       "      <td>0.992050</td>\n",
       "    </tr>\n",
       "    <tr>\n",
       "      <th>6232</th>\n",
       "      <td>POSITIVE</td>\n",
       "      <td>0.985855</td>\n",
       "    </tr>\n",
       "    <tr>\n",
       "      <th>6233</th>\n",
       "      <td>NEGATIVE</td>\n",
       "      <td>0.998075</td>\n",
       "    </tr>\n",
       "    <tr>\n",
       "      <th>6234</th>\n",
       "      <td>POSITIVE</td>\n",
       "      <td>0.999742</td>\n",
       "    </tr>\n",
       "    <tr>\n",
       "      <th>6235</th>\n",
       "      <td>POSITIVE</td>\n",
       "      <td>0.998794</td>\n",
       "    </tr>\n",
       "  </tbody>\n",
       "</table>\n",
       "<p>6236 rows × 2 columns</p>\n",
       "</div>"
      ],
      "text/plain": [
       "         label     score\n",
       "0     POSITIVE  0.998776\n",
       "1     POSITIVE  0.998171\n",
       "2     POSITIVE  0.980007\n",
       "3     POSITIVE  0.991327\n",
       "4     POSITIVE  0.999678\n",
       "...        ...       ...\n",
       "6231  POSITIVE  0.992050\n",
       "6232  POSITIVE  0.985855\n",
       "6233  NEGATIVE  0.998075\n",
       "6234  POSITIVE  0.999742\n",
       "6235  POSITIVE  0.998794\n",
       "\n",
       "[6236 rows x 2 columns]"
      ]
     },
     "execution_count": 31,
     "metadata": {},
     "output_type": "execute_result"
    }
   ],
   "source": [
    "pd.DataFrame(output)"
   ]
  },
  {
   "cell_type": "code",
   "execution_count": 33,
   "metadata": {
    "collapsed": false,
    "jupyter": {
     "outputs_hidden": false
    },
    "pycharm": {
     "name": "#%%\n"
    }
   },
   "outputs": [],
   "source": [
    "new_dialogues_df = pd.concat([dialogues_df, pd.DataFrame(output)],axis = 1, join = 'outer', ignore_index=False, sort=False)"
   ]
  },
  {
   "cell_type": "code",
   "execution_count": 34,
   "metadata": {
    "collapsed": false,
    "jupyter": {
     "outputs_hidden": false
    },
    "pycharm": {
     "name": "#%%\n"
    }
   },
   "outputs": [],
   "source": [
    "# save as excel\n",
    "new_dialogues_df.to_excel(\"new_dialogues.xlsx\", index=False)"
   ]
  }
 ],
 "metadata": {
  "kernelspec": {
   "display_name": "Python 3",
   "language": "python",
   "name": "python3"
  },
  "language_info": {
   "codemirror_mode": {
    "name": "ipython",
    "version": 3
   },
   "file_extension": ".py",
   "mimetype": "text/x-python",
   "name": "python",
   "nbconvert_exporter": "python",
   "pygments_lexer": "ipython3",
   "version": "3.7.4"
  }
 },
 "nbformat": 4,
 "nbformat_minor": 4
}
