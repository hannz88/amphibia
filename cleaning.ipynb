{
 "cells": [
  {
   "cell_type": "markdown",
   "metadata": {},
   "source": [
    "# Cleaning data"
   ]
  },
  {
   "cell_type": "code",
   "execution_count": 1,
   "metadata": {},
   "outputs": [],
   "source": [
    "# import\n",
    "import pandas as pd\n",
    "import numpy as np"
   ]
  },
  {
   "cell_type": "code",
   "execution_count": 2,
   "metadata": {},
   "outputs": [
    {
     "data": {
      "text/html": [
       "<div>\n",
       "<style scoped>\n",
       "    .dataframe tbody tr th:only-of-type {\n",
       "        vertical-align: middle;\n",
       "    }\n",
       "\n",
       "    .dataframe tbody tr th {\n",
       "        vertical-align: top;\n",
       "    }\n",
       "\n",
       "    .dataframe thead th {\n",
       "        text-align: right;\n",
       "    }\n",
       "</style>\n",
       "<table border=\"1\" class=\"dataframe\">\n",
       "  <thead>\n",
       "    <tr style=\"text-align: right;\">\n",
       "      <th></th>\n",
       "      <th>Speaker</th>\n",
       "      <th>Dialogue</th>\n",
       "      <th>Dialogue_num_in_eps</th>\n",
       "      <th>Episode_url</th>\n",
       "      <th>Episode #</th>\n",
       "      <th>Segment</th>\n",
       "      <th>Disney</th>\n",
       "      <th>Prod.</th>\n",
       "      <th>Title</th>\n",
       "      <th>Synopsis</th>\n",
       "      <th>Airdate</th>\n",
       "      <th>Viewers (millions)</th>\n",
       "      <th>Season</th>\n",
       "    </tr>\n",
       "  </thead>\n",
       "  <tbody>\n",
       "    <tr>\n",
       "      <th>0</th>\n",
       "      <td>Dragonflies buzz.</td>\n",
       "      <td>Dragonflies buzz.</td>\n",
       "      <td>0</td>\n",
       "      <td>https://amphibia.fandom.com/wiki/Anne_or_Beast...</td>\n",
       "      <td>1.0</td>\n",
       "      <td>1a</td>\n",
       "      <td>103.0</td>\n",
       "      <td>TBA</td>\n",
       "      <td>Anne or Beast?</td>\n",
       "      <td>Sprig tries to capture a mysterious beast to p...</td>\n",
       "      <td>June 17, 2019</td>\n",
       "      <td>0.39</td>\n",
       "      <td>1.0</td>\n",
       "    </tr>\n",
       "    <tr>\n",
       "      <th>1</th>\n",
       "      <td>Cuts to Stumpy's.</td>\n",
       "      <td>Cuts to Stumpy's.</td>\n",
       "      <td>1</td>\n",
       "      <td>https://amphibia.fandom.com/wiki/Anne_or_Beast...</td>\n",
       "      <td>1.0</td>\n",
       "      <td>1a</td>\n",
       "      <td>103.0</td>\n",
       "      <td>TBA</td>\n",
       "      <td>Anne or Beast?</td>\n",
       "      <td>Sprig tries to capture a mysterious beast to p...</td>\n",
       "      <td>June 17, 2019</td>\n",
       "      <td>0.39</td>\n",
       "      <td>1.0</td>\n",
       "    </tr>\n",
       "    <tr>\n",
       "      <th>2</th>\n",
       "      <td>Wally</td>\n",
       "      <td>Goodnight, you frogs! See you in the morrow. (...</td>\n",
       "      <td>2</td>\n",
       "      <td>https://amphibia.fandom.com/wiki/Anne_or_Beast...</td>\n",
       "      <td>1.0</td>\n",
       "      <td>1a</td>\n",
       "      <td>103.0</td>\n",
       "      <td>TBA</td>\n",
       "      <td>Anne or Beast?</td>\n",
       "      <td>Sprig tries to capture a mysterious beast to p...</td>\n",
       "      <td>June 17, 2019</td>\n",
       "      <td>0.39</td>\n",
       "      <td>1.0</td>\n",
       "    </tr>\n",
       "    <tr>\n",
       "      <th>3</th>\n",
       "      <td>Frogs</td>\n",
       "      <td>(laughing at Wally)</td>\n",
       "      <td>3</td>\n",
       "      <td>https://amphibia.fandom.com/wiki/Anne_or_Beast...</td>\n",
       "      <td>1.0</td>\n",
       "      <td>1a</td>\n",
       "      <td>103.0</td>\n",
       "      <td>TBA</td>\n",
       "      <td>Anne or Beast?</td>\n",
       "      <td>Sprig tries to capture a mysterious beast to p...</td>\n",
       "      <td>June 17, 2019</td>\n",
       "      <td>0.39</td>\n",
       "      <td>1.0</td>\n",
       "    </tr>\n",
       "    <tr>\n",
       "      <th>4</th>\n",
       "      <td>Cuts to Wally walking in the forest and playin...</td>\n",
       "      <td>Cuts to Wally walking in the forest and playin...</td>\n",
       "      <td>4</td>\n",
       "      <td>https://amphibia.fandom.com/wiki/Anne_or_Beast...</td>\n",
       "      <td>1.0</td>\n",
       "      <td>1a</td>\n",
       "      <td>103.0</td>\n",
       "      <td>TBA</td>\n",
       "      <td>Anne or Beast?</td>\n",
       "      <td>Sprig tries to capture a mysterious beast to p...</td>\n",
       "      <td>June 17, 2019</td>\n",
       "      <td>0.39</td>\n",
       "      <td>1.0</td>\n",
       "    </tr>\n",
       "    <tr>\n",
       "      <th>...</th>\n",
       "      <td>...</td>\n",
       "      <td>...</td>\n",
       "      <td>...</td>\n",
       "      <td>...</td>\n",
       "      <td>...</td>\n",
       "      <td>...</td>\n",
       "      <td>...</td>\n",
       "      <td>...</td>\n",
       "      <td>...</td>\n",
       "      <td>...</td>\n",
       "      <td>...</td>\n",
       "      <td>...</td>\n",
       "      <td>...</td>\n",
       "    </tr>\n",
       "    <tr>\n",
       "      <th>11524</th>\n",
       "      <td>Amity</td>\n",
       "      <td>(sighs) No, I'm Amity Blight. I can do this. I...</td>\n",
       "      <td>124</td>\n",
       "      <td>https://amphibia.fandom.com/wiki/Amphibia_and_...</td>\n",
       "      <td>NaN</td>\n",
       "      <td>NaN</td>\n",
       "      <td>NaN</td>\n",
       "      <td>NaN</td>\n",
       "      <td>NaN</td>\n",
       "      <td>NaN</td>\n",
       "      <td>NaN</td>\n",
       "      <td>NaN</td>\n",
       "      <td>NaN</td>\n",
       "    </tr>\n",
       "    <tr>\n",
       "      <th>11525</th>\n",
       "      <td>Tiny Nose</td>\n",
       "      <td>Oh, there she is.</td>\n",
       "      <td>125</td>\n",
       "      <td>https://amphibia.fandom.com/wiki/Amphibia_and_...</td>\n",
       "      <td>NaN</td>\n",
       "      <td>NaN</td>\n",
       "      <td>NaN</td>\n",
       "      <td>NaN</td>\n",
       "      <td>NaN</td>\n",
       "      <td>NaN</td>\n",
       "      <td>NaN</td>\n",
       "      <td>NaN</td>\n",
       "      <td>NaN</td>\n",
       "    </tr>\n",
       "    <tr>\n",
       "      <th>11526</th>\n",
       "      <td>Narration(Dana Terrace)</td>\n",
       "      <td>Reveal: Luz and Eda walking back from their tr...</td>\n",
       "      <td>126</td>\n",
       "      <td>https://amphibia.fandom.com/wiki/Amphibia_and_...</td>\n",
       "      <td>NaN</td>\n",
       "      <td>NaN</td>\n",
       "      <td>NaN</td>\n",
       "      <td>NaN</td>\n",
       "      <td>NaN</td>\n",
       "      <td>NaN</td>\n",
       "      <td>NaN</td>\n",
       "      <td>NaN</td>\n",
       "      <td>NaN</td>\n",
       "    </tr>\n",
       "    <tr>\n",
       "      <th>11527</th>\n",
       "      <td>Amity</td>\n",
       "      <td>I gotta go!</td>\n",
       "      <td>127</td>\n",
       "      <td>https://amphibia.fandom.com/wiki/Amphibia_and_...</td>\n",
       "      <td>NaN</td>\n",
       "      <td>NaN</td>\n",
       "      <td>NaN</td>\n",
       "      <td>NaN</td>\n",
       "      <td>NaN</td>\n",
       "      <td>NaN</td>\n",
       "      <td>NaN</td>\n",
       "      <td>NaN</td>\n",
       "      <td>NaN</td>\n",
       "    </tr>\n",
       "    <tr>\n",
       "      <th>11528</th>\n",
       "      <td>Narration(Dana Terrace)</td>\n",
       "      <td>Amity dashes back into the woods before Luz kn...</td>\n",
       "      <td>128</td>\n",
       "      <td>https://amphibia.fandom.com/wiki/Amphibia_and_...</td>\n",
       "      <td>NaN</td>\n",
       "      <td>NaN</td>\n",
       "      <td>NaN</td>\n",
       "      <td>NaN</td>\n",
       "      <td>NaN</td>\n",
       "      <td>NaN</td>\n",
       "      <td>NaN</td>\n",
       "      <td>NaN</td>\n",
       "      <td>NaN</td>\n",
       "    </tr>\n",
       "  </tbody>\n",
       "</table>\n",
       "<p>11529 rows × 13 columns</p>\n",
       "</div>"
      ],
      "text/plain": [
       "                                                 Speaker  \\\n",
       "0                                      Dragonflies buzz.   \n",
       "1                                      Cuts to Stumpy's.   \n",
       "2                                                  Wally   \n",
       "3                                                  Frogs   \n",
       "4      Cuts to Wally walking in the forest and playin...   \n",
       "...                                                  ...   \n",
       "11524                                              Amity   \n",
       "11525                                          Tiny Nose   \n",
       "11526                            Narration(Dana Terrace)   \n",
       "11527                                              Amity   \n",
       "11528                            Narration(Dana Terrace)   \n",
       "\n",
       "                                                Dialogue  Dialogue_num_in_eps  \\\n",
       "0                                      Dragonflies buzz.                    0   \n",
       "1                                      Cuts to Stumpy's.                    1   \n",
       "2      Goodnight, you frogs! See you in the morrow. (...                    2   \n",
       "3                                    (laughing at Wally)                    3   \n",
       "4      Cuts to Wally walking in the forest and playin...                    4   \n",
       "...                                                  ...                  ...   \n",
       "11524  (sighs) No, I'm Amity Blight. I can do this. I...                  124   \n",
       "11525                                  Oh, there she is.                  125   \n",
       "11526  Reveal: Luz and Eda walking back from their tr...                  126   \n",
       "11527                                        I gotta go!                  127   \n",
       "11528  Amity dashes back into the woods before Luz kn...                  128   \n",
       "\n",
       "                                             Episode_url  Episode # Segment  \\\n",
       "0      https://amphibia.fandom.com/wiki/Anne_or_Beast...        1.0      1a   \n",
       "1      https://amphibia.fandom.com/wiki/Anne_or_Beast...        1.0      1a   \n",
       "2      https://amphibia.fandom.com/wiki/Anne_or_Beast...        1.0      1a   \n",
       "3      https://amphibia.fandom.com/wiki/Anne_or_Beast...        1.0      1a   \n",
       "4      https://amphibia.fandom.com/wiki/Anne_or_Beast...        1.0      1a   \n",
       "...                                                  ...        ...     ...   \n",
       "11524  https://amphibia.fandom.com/wiki/Amphibia_and_...        NaN     NaN   \n",
       "11525  https://amphibia.fandom.com/wiki/Amphibia_and_...        NaN     NaN   \n",
       "11526  https://amphibia.fandom.com/wiki/Amphibia_and_...        NaN     NaN   \n",
       "11527  https://amphibia.fandom.com/wiki/Amphibia_and_...        NaN     NaN   \n",
       "11528  https://amphibia.fandom.com/wiki/Amphibia_and_...        NaN     NaN   \n",
       "\n",
       "       Disney Prod.           Title  \\\n",
       "0       103.0   TBA  Anne or Beast?   \n",
       "1       103.0   TBA  Anne or Beast?   \n",
       "2       103.0   TBA  Anne or Beast?   \n",
       "3       103.0   TBA  Anne or Beast?   \n",
       "4       103.0   TBA  Anne or Beast?   \n",
       "...       ...   ...             ...   \n",
       "11524     NaN   NaN             NaN   \n",
       "11525     NaN   NaN             NaN   \n",
       "11526     NaN   NaN             NaN   \n",
       "11527     NaN   NaN             NaN   \n",
       "11528     NaN   NaN             NaN   \n",
       "\n",
       "                                                Synopsis        Airdate  \\\n",
       "0      Sprig tries to capture a mysterious beast to p...  June 17, 2019   \n",
       "1      Sprig tries to capture a mysterious beast to p...  June 17, 2019   \n",
       "2      Sprig tries to capture a mysterious beast to p...  June 17, 2019   \n",
       "3      Sprig tries to capture a mysterious beast to p...  June 17, 2019   \n",
       "4      Sprig tries to capture a mysterious beast to p...  June 17, 2019   \n",
       "...                                                  ...            ...   \n",
       "11524                                                NaN            NaN   \n",
       "11525                                                NaN            NaN   \n",
       "11526                                                NaN            NaN   \n",
       "11527                                                NaN            NaN   \n",
       "11528                                                NaN            NaN   \n",
       "\n",
       "       Viewers (millions)  Season  \n",
       "0                    0.39     1.0  \n",
       "1                    0.39     1.0  \n",
       "2                    0.39     1.0  \n",
       "3                    0.39     1.0  \n",
       "4                    0.39     1.0  \n",
       "...                   ...     ...  \n",
       "11524                 NaN     NaN  \n",
       "11525                 NaN     NaN  \n",
       "11526                 NaN     NaN  \n",
       "11527                 NaN     NaN  \n",
       "11528                 NaN     NaN  \n",
       "\n",
       "[11529 rows x 13 columns]"
      ]
     },
     "execution_count": 2,
     "metadata": {},
     "output_type": "execute_result"
    }
   ],
   "source": [
    "# import file\n",
    "total_df = pd.read_excel(\"total_df.xlsx\")\n",
    "total_df"
   ]
  },
  {
   "cell_type": "code",
   "execution_count": 3,
   "metadata": {},
   "outputs": [
    {
     "data": {
      "text/plain": [
       "85"
      ]
     },
     "execution_count": 3,
     "metadata": {},
     "output_type": "execute_result"
    }
   ],
   "source": [
    "total_df[\"Synopsis\"].nunique()"
   ]
  },
  {
   "cell_type": "code",
   "execution_count": 4,
   "metadata": {},
   "outputs": [
    {
     "data": {
      "text/plain": [
       "88"
      ]
     },
     "execution_count": 4,
     "metadata": {},
     "output_type": "execute_result"
    }
   ],
   "source": [
    "total_df[\"Episode_url\"].nunique()"
   ]
  },
  {
   "cell_type": "code",
   "execution_count": 5,
   "metadata": {},
   "outputs": [
    {
     "name": "stderr",
     "output_type": "stream",
     "text": [
      "/home/han/anaconda3/lib/python3.7/site-packages/ipykernel_launcher.py:2: FutureWarning: The default value of regex will change from True to False in a future version.\n",
      "  \n"
     ]
    }
   ],
   "source": [
    "# clean the speaker column\n",
    "total_df['Speaker'] = total_df['Speaker'].str.replace(r\"\\(.*\\)\",\"\").str.strip()"
   ]
  },
  {
   "cell_type": "markdown",
   "metadata": {
    "heading_collapsed": "true"
   },
   "source": [
    "# remove the nan"
   ]
  },
  {
   "cell_type": "code",
   "execution_count": 6,
   "metadata": {},
   "outputs": [],
   "source": [
    "cleaned_df = total_df[total_df['Title'].notna()]"
   ]
  },
  {
   "cell_type": "code",
   "execution_count": 7,
   "metadata": {},
   "outputs": [
    {
     "data": {
      "text/plain": [
       "85"
      ]
     },
     "execution_count": 7,
     "metadata": {},
     "output_type": "execute_result"
    }
   ],
   "source": [
    "cleaned_df[\"Episode_url\"].nunique()"
   ]
  },
  {
   "cell_type": "markdown",
   "metadata": {
    "heading_collapsed": "true"
   },
   "source": [
    "# clean up the speaker column"
   ]
  },
  {
   "cell_type": "code",
   "execution_count": 8,
   "metadata": {},
   "outputs": [],
   "source": [
    "cleaned_speaker_df = cleaned_df[cleaned_df[\"Speaker\"].notna()]"
   ]
  },
  {
   "cell_type": "code",
   "execution_count": 9,
   "metadata": {
    "collapsed": true,
    "jupyter": {
     "outputs_hidden": true
    }
   },
   "outputs": [
    {
     "data": {
      "text/plain": [
       "array(['Dragonflies buzz.', \"Cuts to Stumpy's.\", 'Wally', 'Frogs',\n",
       "       'Cuts to Wally walking in the forest and playing his accordion while humming. Wally hears loud rustling caused by \"something unknown\".',\n",
       "       'Ominous wind blows.',\n",
       "       'A mysterious creature pops up from some bushes behind Wally, eyes glowing white.',\n",
       "       'Shot cuts to village inhabitants going about their daily lives.',\n",
       "       'A butcher Amphibian cuts a centipede looking creature which screeches.',\n",
       "       'An amphibian says \"woah\" in surprise as the front half of the centipede crawls up a house and crashes through the window',\n",
       "       'Amphibian Couple', 'A few kid Amphibians laugh while playing.',\n",
       "       'A slug appears carrying a cart with Hop Pop, Sprig, and Polly Plantar in it while trying to eat a leaf on a fishing pole-like stick.',\n",
       "       'Hop Pop Plantar', 'Sprig Plantar', 'Hop Pop', 'Sprig',\n",
       "       'Polly Plantar',\n",
       "       \"Flashback 1: A green liquid substance explodes out of a pot while Hop Pop's cutting veggies because Sprig put something in it.\",\n",
       "       'Flashback 2: Sprig crashes through the wall while Hop Pop is sleeping.',\n",
       "       'Sprig, Hop Pop & Cow-worm',\n",
       "       'Flashback 3: Showing outside of Plantar Farm.',\n",
       "       'Giant fireflies start ramming the house.',\n",
       "       'Hop Pop, Sprig, and Polly',\n",
       "       'A bunch of villagers walk in including Mayor Toadstool.',\n",
       "       'Mayor Toadstool',\n",
       "       'Toadie, Sadie Croaker, Mr. Flour, and Leopold Loggle', 'Toadie',\n",
       "       'Villagers', 'Villagers repeat responsible a few times.', 'Polly',\n",
       "       'Cut to a landscape with mountains and dragonflies flying above.',\n",
       "       'Cut down to Sprig . He is running along in a forest. He pops out of a log and finds a bug in his hair. He eats it. He then readies a slingshot, then looks down and gasps.',\n",
       "       \"He is caught in a rope trap and flies into the air. He then falls back down. He's hanging upside down. He groans.\",\n",
       "       \"The beast steps out from behind some bushes, and it's revealed to be... a disheveled human girl. She is panting and holding a pointed stick.\",\n",
       "       'Anne Boonchuy',\n",
       "       \"She keeps panting. Sprig gasps. Cut to the parts of Anne's body Sprig is mentioning.\",\n",
       "       'Anne',\n",
       "       'A monster-sounding screech is heard. Trees start falling over.',\n",
       "       'Anne groans. She runs off.',\n",
       "       'The monster screeches again. Sprig flails about, screaming. He starts to gnaw on the rope to free himself. The monster screeches again. Sprig stops chewing the rope and screams. Anne frowns and cuts him free. She grabs him and starts running.',\n",
       "       'Anne and Sprig duck under a log. The monster- a giant red mantis- passes by. Sprig and Anne gasp and fall to the ground.',\n",
       "       'He holds out his hand.',\n",
       "       'She shakes his hand. Her hand becomes covered in slime.',\n",
       "       'She rubs off the slime. Her stomach grumbles. She sighs.',\n",
       "       'He lifts up a section of the log. Bugs are crawling around underneath.',\n",
       "       'He finds a bloated Polly, who sees him.', 'Green Praying Mantis',\n",
       "       '', 'Blue VIllager', 'Mayor Toadstool & villagers',\n",
       "       'Red Praying Mantis', 'Villager', 'Anne & Sprig',\n",
       "       'Hop Pop tries to make Sprig understand he meant something else, while Spring enthuses and Anne checks her phone.',\n",
       "       'Sprig starts to perform a victory dance.', 'Cuts to Plantar Farm',\n",
       "       'Frog', 'Kids', 'All', 'Anne and Sprig', 'Sadie', 'Carl',\n",
       "       'Anne/Hop Pop', 'Monster', 'Boulder-tron', 'Narrator', 'Peruvia',\n",
       "       'Randy', 'Sprig and Polly', 'Sprig, Polly, Anne', 'Chad',\n",
       "       'Flashback Anne', 'Mrs. Croaker', 'Both', 'Hop Pop narrating',\n",
       "       'Anne reading', 'Woman', 'Merchant', 'Frog child', 'Toadstool',\n",
       "       'The Plantars', 'Anne and Polly', 'Sprig, Polly and Anne',\n",
       "       'Spa staff', 'Barber', 'Customer', 'Felicia', '(Flashback',\n",
       "       'Salesman', 'Tuti', 'Sheriff Buck Leatherleaf', 'Ivy',\n",
       "       'Albus Duckweed', 'Camper', 'Soggy Joe', 'Mud man', 'Mud Man',\n",
       "       \"It's a stormy day in Wartwood. Anne snuggles in the comfort of the Plantars' basement.\",\n",
       "       'Anne happily lays down. Suddenly, the door slams open.',\n",
       "       'Hop Pop, Anne, Sprig, and Polly are all gathered in the living room.',\n",
       "       'Hop Pop shows Wally struggling to walk in the worsening rainstorm. Wally gets hit by a wayward tree blowing in the extreme winds.',\n",
       "       'As Hop Pop says this, Anne begins to look more and more unsure. Suddenly, Anne interrupts Hop Pop with a forceful cough.',\n",
       "       'Anne falls to the ground in a round of forceful coughing. Hop Pop goes up to investigate.',\n",
       "       'Anne celebrates with a montage of her goofing off in the Plantar house alone. She firsts drums on the pots and pans on the kitchen... only to have one of the hanging pots be a still live mantis head. The insect hisses, prompting a shriek form Anne. We then see her dancing on top of the dinner table, which tops over.',\n",
       "       \"Some time later, Anne enjoys a relaxing, candlelit bath. While she tends to her nails, we pan over to see Hop Pop, Sprig and Polly hanging on for dear life as the storm winds worsen. Scene cut to Anne trying on Sprig's hat and jacket. She giggles as she pretends to hop up and down. Another cut sees Anne painting her toenails while the Plantars, unbeknownst to her, get swept up in a tornado outside her window. The montage ends with Anne sliding down the stairs, knocking down some barrels in a game of human bowling.\",\n",
       "       'Anne is now watching a video on her phone.', 'Man on TV',\n",
       "       '\"Cynthia\" lets out a horrified scream',\n",
       "       'The camera pans over to the door where Hop Pop, Sprig, and Polly come back into the house looking worse for wear. Pan back to Anne who resumes her sick act. Her phone and ice cream are nowhere to be found and she is wrapped with a blanket.',\n",
       "       'The rain soaked Plantars all look miserable. Hop Pop and Polly in particular. Pan to Hop Pop who looks to be sweating as he sniffs and coughs. Pan next to Polly, who sneezes so hard she launches herself in the air and lands in a moaning heap. Her eyes are completely swollen. Pan next to Sprig who looks... normal.',\n",
       "       'Feeling bad about her fakeout, Anne speaks up.',\n",
       "       'Polly sneezes and starts to ping pong off the walls',\n",
       "       'Anne puts on some kitchen gloves and ties her hair back with a bandana. She starts by wrapping Hop Pop in a blanket, but catches some of his secretions on her gloves. She grunts as she tries to shake it off, only for it to splash in her face.',\n",
       "       'Cut to Anne giving Polly some eye drops.',\n",
       "       \"Anne tries several times to put Sprig's tongue back in his mouth, only for the tongue to stick back out. A few more quick attempts later, Anne ties Sprig's head down with a handkerchief, which works. Cut to the Plantar kitchen. Anne is cooking.\",\n",
       "       'Cut to the dinner table. The Plantars all eat the soup.',\n",
       "       \"Sprig's tongue sticks out, spilling the soup on Polly and Hop Pop.\",\n",
       "       'Hop Pop looks down and sees that his legs have turned red.',\n",
       "       'The family all gather as Hop Pop looks up the condition in one of his books.',\n",
       "       'Hop Pop lies down in the corner, covering himself with a newspaper and nudging a vase next to him.',\n",
       "       'Hop Pop, Polly & Sprig',\n",
       "       'Sometime later, the Plantars ride Bessie to the mineral pond. Anne rides Bessie while the sick Hop Pop, Sprig, and Polly are confined to the wagon, bouncing back and forth. They soon arrive at the \"Peak of Health\", where the mineral pond is high atop the tall mountain. Determined, Anne forges ahead.',\n",
       "       'Anne hops off of Bessie and unhitches the wagon.',\n",
       "       'Anne begins to pull the cart herself, leaving a chirping Bessie behind.',\n",
       "       'While Anne pulls the cart, a crow lands and pecks on her head.',\n",
       "       'Anne shoos the bird away, only to have an alligator creature chomp on her leg. She loses her balance, sending herself and the cart backwards. She recovers by pushing the cart from behind while other smaller creatures keep biting her. Eventually they make it to a plateau, where Anne collapses in exhaustion. Hop Pop, Sprig, and Polly cheer.',\n",
       "       'The plateau ahead is covered with hot geysers, one of which destroys a passing giant fly.',\n",
       "       'A nearby geyser destroys the cart, sending Hop Pop and Polly tumbling out.',\n",
       "       'Anne now carries all three Plantars and scopes out the gushing geysers.',\n",
       "       'Anne makes a mad dash across the geysers while the Plantars yell and scream through a few close calls. With one final leap, Anne makes it across the other side.',\n",
       "       'A giant fly buzzes right by them towards the top. Anne gets an idea.',\n",
       "       'Anne leaps off the edge and falls down, only to hitch a ride on one of the giant flies. The Plantars scream as they all start to fly over the mineral pond.',\n",
       "       'All four of them jump down and fall into the pond. Moments after jumping in, they all gasp for breath. After a quick check, they all begin to celebrate. By now, Hop Pop, Sprig and Polly are all red.',\n",
       "       'Sprig coughs and stutters trying to keep his tongue under control',\n",
       "       'The Plantars comfort Anne.',\n",
       "       'They all hug. The sun begins to set.',\n",
       "       'Hop Pop, Sprig, and Polly float on their backs, their arms crossed on their chests.',\n",
       "       'Three giant flies screech overhead. The music reaches a crescendo for the three frogs. A few short moments later, the music abruptly stops when Hop Pop opens his eyes.',\n",
       "       'Anne, Sprig & Polly', 'Pumpkin Monster', 'Loggle', 'Stumpy',\n",
       "       'Duckweed', 'Kraken', 'Gentle Jon', 'Anne/Polly', 'Child', 'Crowd',\n",
       "       'Mr. Croaker', 'Teen worker', 'Bog', 'Fens', 'Mire', 'Archie',\n",
       "       'Bessie', 'Toadstood', 'Toad soldier', 'Soldiers', 'Grime',\n",
       "       'Soldier', 'Sasha', 'Percy', 'Braddock', 'Sasha [whispering]',\n",
       "       'Grime [whispering]', 'Braddock [whispering]', 'Heron', 'Gary',\n",
       "       'Toad', 'Grubhog', 'Outside', 'Announcer', 'Villager 1',\n",
       "       'Villager 2', 'Toadtool', 'Crowd [chanting]', 'Vulture',\n",
       "       'Sylvia Sundew', 'Sylvia', 'Monroe', 'Anne, Sprig, Polly', 'Man',\n",
       "       'Band player', 'Polly, Sprig, Anne', 'Arguing frogs',\n",
       "       'Lavender, Ginger, and Rosemary', 'Constance', 'Hunter',\n",
       "       'Alastair', 'Hunter frog', 'Alastair frog', 'Female frog',\n",
       "       'Male frog', 'Maddie', 'Hunter Frog', \"Hop Pop's voice\",\n",
       "       'Male Frog', 'Beetle', 'Birds', 'Jeremy', 'Old frog',\n",
       "       'Sprig and Anne', 'Police chief', 'Investigator 1',\n",
       "       'Investigator 2', 'Criminal', 'Police officer', 'Teenage worker',\n",
       "       'Mr. Flour', 'Gunther', 'Nearby snake fly', 'Sand liger', 'Mole',\n",
       "       'Cicada', 'Female Frog', 'Jerry', 'Patrick', 'Ferraiolo',\n",
       "       'Anne, Polly', 'Jonah', 'Teddy', 'Martha', 'Juniper', 'Juliet',\n",
       "       'Barry', '(Anne writes a letter that reads',\n",
       "       'Sprig, Polly, & Anne', 'Tritonio', 'Math Teacher',\n",
       "       'Anne, Sprig, & Polly', 'intro', 'Vince', 'Frog:', 'Sprig:',\n",
       "       'Anne:',\n",
       "       'Anne briefly flashes back to her duel with Sasha and the look on her unconscious face.',\n",
       "       'Hop Pop:', 'Polly:', 'All:', 'Sprig & Polly:', '[frog screaming]',\n",
       "       '[snail chirps]', 'Dave:', 'Chuck:',\n",
       "       '[Dave revs his snail and drives off.]', '[screeches]', 'Seller:',\n",
       "       '[buzzing]', 'Loggle:', '[techno music playing]', '[music ends]',\n",
       "       '[rumbling]', 'Veggie monsters:', 'Veggie monster:',\n",
       "       'Giant veggie monster:', 'Sprig , Hop Pop & Polly:',\n",
       "       'Polly & Hop Pop:', 'Tiny veggie monster:', 'Hop Pop: Say what?',\n",
       "       'Anne, Sprig & Polly:', 'Bessie:', '[snails revving]', 'Bug:',\n",
       "       '[rev]', 'Sprig & Anne:', '[brakes screech]', 'Anne & Sprig:',\n",
       "       '[beeping]', '[Anne, Sprig screaming]', '[hisses]', '[squeaks]',\n",
       "       'Anne & Hop Pop:', 'Machine:', '[winces]', '[alarm blaring]',\n",
       "       '[whirring]', '[explosion]', 'Anne & Polly', 'Bitties', 'Frog #2',\n",
       "       'Judro', 'Frog #3', 'Bailey', 'Frog #4', 'Heathro',\n",
       "       'Mama Hasselback', 'Anne, Polly & Sprig', 'Hasselback Gang',\n",
       "       'Bailet', 'Talbert', 'Mamam Hasselback', '*humming*',\n",
       "       'Sprig, Polly & Hop Pop', 'Roasted chicken', 'Worm', 'Grubble',\n",
       "       'Scorpileo', '*squeals*', '*bird squawks* *wolf howls*',\n",
       "       \"Sprig's voice\", 'Floating Sprig Head', 'Song', 'Sprig & Hop Pop',\n",
       "       '*water splashing in rhythm*', '*drums beating in rhythm*',\n",
       "       '*drums beating continues*', 'Anne, Sprig and Hop Pop', 'Employer',\n",
       "       'Hop Hop', 'Jukebox', \"Soggy Joe's friend 1\",\n",
       "       \"Soggy Joe's friend 2\", 'Amphibian cowboy', '..',\n",
       "       'Anne, Sprig, Polly and Hop Pop', 'Unknown', 'Renee', 'Actor 1',\n",
       "       'Francois', 'Kid Anne', 'Banksville Person 1',\n",
       "       'Banksville Person 2', 'Actor 2',\n",
       "       '(The sand worm comes out to dock Renee.', 'Sheriff',\n",
       "       'Anne, Sprig and Polly', 'Female Olm', 'Male Olm', 'Lysil',\n",
       "       'Lysil and Angwin', 'Angwin', 'Suspicion Island Advertiser',\n",
       "       'Unknown newt', 'Bartender', 'General Yunan', 'Newt',\n",
       "       'Generel Yunan', 'Mariah', \"Mariah's Mother\", 'Sheep', 'Wigbert',\n",
       "       'Mechanics', 'Peacock', 'Cops', 'Crumpet', 'Andromeda',\n",
       "       'Fiddle Leaf', 'Anne & Wally', 'Townsfolk', 'Tadpole', 'Mother',\n",
       "       'The Curator', 'Frog Soos', '[squawking]', 'Marcy',\n",
       "       'Off-screen coach', '[whistle blows]',\n",
       "       '(Anne and Sprig climb up the fwaggon and gasps, Anne jump off the fwaggon and run toward the grass to see the view of Newtopia, the rest of the Plantar Family run toward it and watch the view as well and gasps}',\n",
       "       'Anne and the Plantars', 'Gatekeeper', '[Polly laughs]',\n",
       "       'Gatekeepter', '[yells]', '[all scream]', '[screams]',\n",
       "       '[ants screeching]', '[gasps]', '[groans]', '[coughing]',\n",
       "       'Hooded figure', '[laughs]',\n",
       "       \"[Marcy picks up Polly and examines the inside of her body using the light of the sun. She uses a magnifying glass to focus on Polly's developing legs.]\",\n",
       "       '[speakers', '[[King Andrias]]', 'King Andrias', '-Baskins',\n",
       "       '-Polly/Sprig', '-Hop Pop', '-Anne', '-Anne, Polly, and Sprig',\n",
       "       '-Polly', '-Polly and Sprig', '-Sprig',\n",
       "       'Hmm. Newtropolitan Gala, tonight 8', '- Anne', '- Sprig',\n",
       "       'Anne/Polly/Sprig', '(Anne uses said weapon', 'Chuck',\n",
       "       'Chicka-Lisk', 'Mail-Fly', 'Sprig & Polly', 'Townsperson',\n",
       "       'Sprig, Anne, & Polly', 'Joe Sparrow', 'News Reporter',\n",
       "       'Anne & Hop Pop', 'Polly & Sprig', 'Hop Pop & Anne',\n",
       "       'Hop Pop & Sprig', 'Wart', 'Yunan', 'Andrias', 'Random frog',\n",
       "       'Three random frogs', 'Mrs Croaker', \"Maddie's Sisters\",\n",
       "       'Baby Sister #2', 'Marcy and Hop Pop', 'Game', 'Employee',\n",
       "       'Rosemary, Lavender and Ginger', 'Rosemary', 'Ginger', 'Lavender',\n",
       "       'Rosemary, Lavender, and Ginger', 'Maddie and the Sisters',\n",
       "       'Maddie and Marcy', 'Rosemary and Lavender', 'Flower',\n",
       "       'Anne, Sprig, Polly & Hop Pop', 'Polly and Hop Pop', 'Bird',\n",
       "       'Valeriana', 'Anne, Sprig, Polly and Marcy', nan, 'Young Anne',\n",
       "       'Young Marcy', 'Young Anne and Marcy', 'Mean Girl #1',\n",
       "       'Young Sasha', 'Mean Girl #2', 'The Plantars and Marcy',\n",
       "       'The Plantars, Anne, and Marcy', 'Anne, Plantars, and Marcy',\n",
       "       'Marcy and the Plantars', 'Plantars',\n",
       "       'Anne, Marcy, Grime and the Plantars', 'Random Citizen',\n",
       "       'All Girls Singing', 'Sasha Singing', 'Anne, Marcy Singing',\n",
       "       'All Three Girls Singing', 'Mr. Wu', 'Mrs. Wu', 'Guard 1',\n",
       "       'Anne, Sprig and Marcy', 'Anne and Marcy', 'Toad Soldier 1',\n",
       "       'Toad Soldier 2', 'Toad Soldier 3', 'Lady Olivia', 'Mrs. Boonchuy',\n",
       "       'Mr. Boonchuy', 'Sprig, Polly and Hop Pop', 'Cool girl',\n",
       "       'Cool boy', 'Mother 1', 'Men 1', 'Scammer 1', 'Scammer 2',\n",
       "       'Scammer 3', 'Official Mark', 'Gabby', 'Baby of Purple Costume',\n",
       "       'Mother 2', 'Mother 3', 'Wartwood Citizen', 'People of Wartwood',\n",
       "       'Frobot', 'Nellie', 'Gigant Frobot', 'Ned', 'Customer 2',\n",
       "       'Customer 1', 'Tyler', 'Men 2', 'Passenger 1', 'Passenger 2',\n",
       "       'Doctor', 'Kid', 'Shawarma restaurant Employer', 'Lady Franklin',\n",
       "       'Lord Frankerton', 'Cloak-Bot', 'Random person', 'Dr. Jan',\n",
       "       'Mitchell', 'Rodney', 'Mitchell and Rodney', 'Papu',\n",
       "       'Thai Woman 1', 'Ba-Med', 'Woman Thai 1', 'Thai Teacher',\n",
       "       'Khon Dancer 1', 'Khon Dancer 2', 'Sepak takraw player 1',\n",
       "       'Sepak takraw player 2', 'Thai Woman 2', 'Thai Men 1',\n",
       "       'Thai Woman 3', 'Thai Woman 4', 'Sprig, Polly, and Hop Pop',\n",
       "       'Thai community', 'Sepak takraw woman', 'Teddy Lumpkins', 'Ally',\n",
       "       'Jess', 'Ally and Jess', 'Frobo', 'Fumigator 4 Host',\n",
       "       \"Leo's owner\", 'Policemen', '\"', 'FBI Detective', 'Mr. X', 'Kid 1',\n",
       "       'Sprig, Polly and Hop Hop', 'Kid 2', 'SWAT Guy 1', 'SWAT Guy 2',\n",
       "       'SWAT Guy 3', 'SWAT Guy 4', 'SWAT Guy 6', 'Spring', 'Tarantulad',\n",
       "       'Bufferfish', 'Blonde Man', 'City Woman', 'Girl',\n",
       "       'Lemonade seller boy', 'Lemonade seller girl', 'Robert Otto',\n",
       "       'Sprig & Robert Otto', 'School bus driver', 'Men 3', 'Molly Jo',\n",
       "       'Newscast 1', 'Newscast 2', 'Pizza maker', 'Sprig & Molly Jo',\n",
       "       'Frog-Bot', \"Lady Olivia's Mother\", 'Anne and Sasha',\n",
       "       'Lady Olivia and General Yunan', 'Darcy',\n",
       "       'Purple-haired young man', 'Older man', 'Humphrey',\n",
       "       'Representative woman', 'The director woman',\n",
       "       'Commercial advertiser', 'Mitch Harbor', 'Producter woman',\n",
       "       'FBI member', 'Worker', 'Children 1', 'Blue-haired girl',\n",
       "       'The director', 'Dr. Frakes', 'Terri', 'Anne and Terri', 'Child 2',\n",
       "       'Children 3 and 4', 'Red-haired girl', 'Dr. Freaks', 'Children 5',\n",
       "       'Narrator of the penguin documentary', 'All the children',\n",
       "       'Anne, Polly and Hop Pop', 'Busker',\n",
       "       'Annual holiday parade announcer', 'Anne and Mr. Boonchuy',\n",
       "       'Robotic voice', 'Blair', 'Bartley', 'Branson', 'Timmy',\n",
       "       'Bartley and Branson', \"Timmy's father\", 'Newperosn on radio',\n",
       "       'Painter', 'Mr. & Mrs. Boonchuy',\n",
       "       'Anne, Sprig, Polly, Hop Pop and Mrs. Boonchuy', 'FBI Chief',\n",
       "       'Anne, Mr. and Mrs. Boonchuy', 'SpendCo seller',\n",
       "       'Sprig and Hop Pop', 'SpendCo employee', 'Huge FBI big man',\n",
       "       'Fourth person with the red mask', 'Anne & The Plantars',\n",
       "       'The tunnels has turned into a makeshift underground Wartwood. Its citizens carrying on with life while many of them prepare for battle. Grime is seen training a group of young frogs. Sasha leads the stunned newcomers around.',\n",
       "       'Everyone',\n",
       "       'The factory is surrounded by a deep trench lined with pointed rocks at the bottom',\n",
       "       'Loggle, Mrs. Croaker, Wally and the Plantars hop on top of one another, forming a wobbily chain',\n",
       "       'The frogs make their way to the canyon',\n",
       "       '(The frogs scream as they all nearly fall down the canyon to the sharp rocks below. Sprig hangs on to a branch.',\n",
       "       'The frogs rush in to attack, but get easily swept aside by the snake. Anne rushes in with her racket, but she gets swipped aside too. Hop Pop suddenly screams in terror.',\n",
       "       \"Working together, the boomshrooms are put in place and the group escape over Loggle's bridge as the factory explodes. Sometime later, the group is returning to the resistance base.\",\n",
       "       'Anne, Hop Pop, Wally, Maddie & Loggle', 'Blue Olm Guard',\n",
       "       'Purple Olm Guard', 'Olm Guard 1', 'Olm Guard 2', 'Mother Olm',\n",
       "       'Anne, Sprig, Polly, Hop Pop and Sasha',\n",
       "       'Anne, Sprig, Hop Pop, Polly and Sasha',\n",
       "       '(The withered hand belongs to the corpse of a newt, holding a bottle of the brain cream the kids are carrying.',\n",
       "       '(The batsquitos swarm the kids, who run for cover. They get chased into a small canal, and fall straight into a deep hole. Anne, Sasha, Sprig and Polly scream as the fall and land in a pool of green goo.',\n",
       "       'Anne, Polly and Sasha', 'Beatrix', 'Toad Soldier',\n",
       "       'Anne, Sasha and Grime', '\"\"', 'Young Andrias', 'Barrel', 'Leif',\n",
       "       'King Aldrich', 'Barrel and Leif', 'Newt Servant #1', \"'\",\n",
       "       'Soggy Joe and Sprig', '[Grime]', '[Polly and Sprig]',\n",
       "       'Anne [offscreen]', 'Toadie [enters]', \"Beatrix's Ant Vehicle\",\n",
       "       'Armies', 'Purple Newt Soldier', 'Tan Newt Soldier',\n",
       "       'Green Toad Soldier', 'Large Toad Soldier', 'Green Frog', 'Toads',\n",
       "       'Hop Pop, Beatrix, Tritonio', 'Hop Pop, Beatrix, and Tritonio',\n",
       "       'Lich King', 'Anne, Sasha, and Marcy', 'Movie Hero',\n",
       "       'Marcy and Movie Hero', 'Butler Frobot', 'Royal Frobot', 'Biker',\n",
       "       'Lady', 'Teacher on PA', 'Principal Murphy', 'General',\n",
       "       'Anne, Sasha & Mrs. Boonchuy', 'Newcast', 'Amphibian 1',\n",
       "       'Amphibian 2', 'Amphibian 3', 'Anne & Sasha', 'Sasha & Marcy',\n",
       "       'Anne, Sasha & Marcy', 'Leander', 'The Core', 'Captain Grime',\n",
       "       'Polly & Hop Pop'], dtype=object)"
      ]
     },
     "execution_count": 9,
     "metadata": {},
     "output_type": "execute_result"
    }
   ],
   "source": [
    "cleaned_df[\"Speaker\"].unique()"
   ]
  },
  {
   "cell_type": "code",
   "execution_count": 10,
   "metadata": {},
   "outputs": [
    {
     "data": {
      "text/plain": [
       "11354"
      ]
     },
     "execution_count": 10,
     "metadata": {},
     "output_type": "execute_result"
    }
   ],
   "source": [
    "len(cleaned_df)"
   ]
  },
  {
   "cell_type": "markdown",
   "metadata": {
    "heading_collapsed": "true"
   },
   "source": [
    "## Search for 4 main characters"
   ]
  },
  {
   "cell_type": "code",
   "execution_count": 11,
   "metadata": {},
   "outputs": [],
   "source": [
    "searchfor = ['Anne', 'Sprig', 'Hop', 'Polly', ]\n",
    "main4_char_df = cleaned_speaker_df[cleaned_speaker_df[\"Speaker\"].str.contains('|'.join(searchfor), case=False)]"
   ]
  },
  {
   "cell_type": "code",
   "execution_count": 12,
   "metadata": {},
   "outputs": [
    {
     "data": {
      "text/plain": [
       "6316"
      ]
     },
     "execution_count": 12,
     "metadata": {},
     "output_type": "execute_result"
    }
   ],
   "source": [
    "len(main4_char_df)"
   ]
  },
  {
   "cell_type": "code",
   "execution_count": 13,
   "metadata": {},
   "outputs": [
    {
     "name": "stderr",
     "output_type": "stream",
     "text": [
      "/home/han/anaconda3/lib/python3.7/site-packages/ipykernel_launcher.py:2: FutureWarning: The default value of regex will change from True to False in a future version.\n",
      "  \n",
      "/home/han/anaconda3/lib/python3.7/site-packages/ipykernel_launcher.py:2: SettingWithCopyWarning: \n",
      "A value is trying to be set on a copy of a slice from a DataFrame.\n",
      "Try using .loc[row_indexer,col_indexer] = value instead\n",
      "\n",
      "See the caveats in the documentation: https://pandas.pydata.org/pandas-docs/stable/user_guide/indexing.html#returning-a-view-versus-a-copy\n",
      "  \n"
     ]
    }
   ],
   "source": [
    "# need to remove anything with brackets in Speaker\n",
    "main4_char_df['Speaker'] = main4_char_df['Speaker'].str.replace(r\"\\(.*\\)\",\"\").str.strip()"
   ]
  },
  {
   "cell_type": "code",
   "execution_count": 14,
   "metadata": {},
   "outputs": [
    {
     "name": "stderr",
     "output_type": "stream",
     "text": [
      "/home/han/anaconda3/lib/python3.7/site-packages/ipykernel_launcher.py:2: SettingWithCopyWarning: \n",
      "A value is trying to be set on a copy of a slice from a DataFrame.\n",
      "Try using .loc[row_indexer,col_indexer] = value instead\n",
      "\n",
      "See the caveats in the documentation: https://pandas.pydata.org/pandas-docs/stable/user_guide/indexing.html#returning-a-view-versus-a-copy\n",
      "  \n"
     ]
    }
   ],
   "source": [
    "# remove all white space from speaker\n",
    "main4_char_df[\"Speaker\"] = main4_char_df[\"Speaker\"].str.strip()"
   ]
  },
  {
   "cell_type": "code",
   "execution_count": 15,
   "metadata": {},
   "outputs": [
    {
     "data": {
      "text/plain": [
       "6152"
      ]
     },
     "execution_count": 15,
     "metadata": {},
     "output_type": "execute_result"
    }
   ],
   "source": [
    "# further limit the length of the speaker to be 2 words\n",
    "tmp_mask = main4_char_df[\"Speaker\"].str.count(\" \") <= 2\n",
    "len(main4_char_df.loc[tmp_mask])   # reducing to 2 words of less doesn't affect much"
   ]
  },
  {
   "cell_type": "code",
   "execution_count": 16,
   "metadata": {},
   "outputs": [
    {
     "data": {
      "text/plain": [
       "array(['Hop Pop Plantar', 'Sprig Plantar', 'Hop Pop', 'Sprig',\n",
       "       'Polly Plantar', 'Polly', 'Anne Boonchuy', 'Anne', 'Anne & Sprig',\n",
       "       'Anne and Sprig', 'Anne/Hop Pop', 'Sprig and Polly',\n",
       "       'Sprig, Polly, Anne', 'Flashback Anne', 'Hop Pop narrating',\n",
       "       'Anne reading', 'Anne and Polly', 'Anne/Polly',\n",
       "       'Anne, Sprig, Polly', 'Polly, Sprig, Anne', \"Hop Pop's voice\",\n",
       "       'Sprig and Anne', 'Anne, Polly', 'Sprig:', 'Anne:', 'Hop Pop:',\n",
       "       'Polly:', 'Sprig & Polly:', 'Sprig & Anne:', 'Anne & Sprig:',\n",
       "       '[Anne, Sprig screaming]', 'Anne & Polly', \"Sprig's voice\",\n",
       "       'Floating Sprig Head', 'Hop Hop', 'Kid Anne', 'Anne & Wally',\n",
       "       '[Polly laughs]', '-Polly/Sprig', '-Hop Pop', '-Anne', '-Polly',\n",
       "       '-Polly and Sprig', '-Sprig', '- Anne', '- Sprig',\n",
       "       'Anne/Polly/Sprig', 'Sprig & Polly', 'Polly & Sprig', 'Young Anne',\n",
       "       'Anne, Marcy Singing', 'Anne and Marcy', 'Anne and Sasha',\n",
       "       'Anne and Terri', '[Polly and Sprig]', 'Anne [offscreen]',\n",
       "       'Anne & Sasha'], dtype=object)"
      ]
     },
     "execution_count": 16,
     "metadata": {},
     "output_type": "execute_result"
    }
   ],
   "source": [
    "# look at the unique speakers\n",
    "tmp_mask = main4_char_df[\"Speaker\"].str.count(\" \") <= 2\n",
    "main4_char_df.loc[tmp_mask][\"Speaker\"].unique()"
   ]
  },
  {
   "cell_type": "code",
   "execution_count": 17,
   "metadata": {},
   "outputs": [],
   "source": [
    "# filter out to make sure there's speakers in the the Speaker column\n",
    "tmp_mask = main4_char_df[\"Speaker\"].str.count(\" \") <= 2\n",
    "speakers_2_words = main4_char_df.loc[tmp_mask]"
   ]
  },
  {
   "cell_type": "markdown",
   "metadata": {},
   "source": [
    "There are a few things:\n",
    "\n",
    "- Some have prefix '-'; some of them have spaces after the '-'\n",
    "- There are also []\n",
    "- There's also '&' as well as 'and'\n",
    "- Then there's '/'\n",
    "- There's also Young & Kid"
   ]
  },
  {
   "cell_type": "markdown",
   "metadata": {
    "heading_collapsed": "true"
   },
   "source": [
    "## Clean up the left over Hyphen"
   ]
  },
  {
   "cell_type": "code",
   "execution_count": 18,
   "metadata": {},
   "outputs": [
    {
     "name": "stderr",
     "output_type": "stream",
     "text": [
      "/home/han/anaconda3/lib/python3.7/site-packages/ipykernel_launcher.py:2: SettingWithCopyWarning: \n",
      "A value is trying to be set on a copy of a slice from a DataFrame.\n",
      "Try using .loc[row_indexer,col_indexer] = value instead\n",
      "\n",
      "See the caveats in the documentation: https://pandas.pydata.org/pandas-docs/stable/user_guide/indexing.html#returning-a-view-versus-a-copy\n",
      "  \n",
      "/home/han/anaconda3/lib/python3.7/site-packages/ipykernel_launcher.py:3: SettingWithCopyWarning: \n",
      "A value is trying to be set on a copy of a slice from a DataFrame.\n",
      "Try using .loc[row_indexer,col_indexer] = value instead\n",
      "\n",
      "See the caveats in the documentation: https://pandas.pydata.org/pandas-docs/stable/user_guide/indexing.html#returning-a-view-versus-a-copy\n",
      "  This is separate from the ipykernel package so we can avoid doing imports until\n"
     ]
    }
   ],
   "source": [
    "# replace hyphen\n",
    "speakers_2_words[\"Speaker\"] = speakers_2_words[\"Speaker\"].str.replace(\"-\", \"\")\n",
    "speakers_2_words[\"Speaker\"] = speakers_2_words[\"Speaker\"].str.strip()"
   ]
  },
  {
   "cell_type": "code",
   "execution_count": 19,
   "metadata": {},
   "outputs": [
    {
     "data": {
      "text/plain": [
       "array(['Hop Pop Plantar', 'Sprig Plantar', 'Hop Pop', 'Sprig',\n",
       "       'Polly Plantar', 'Polly', 'Anne Boonchuy', 'Anne', 'Anne & Sprig',\n",
       "       'Anne and Sprig', 'Anne/Hop Pop', 'Sprig and Polly',\n",
       "       'Sprig, Polly, Anne', 'Flashback Anne', 'Hop Pop narrating',\n",
       "       'Anne reading', 'Anne and Polly', 'Anne/Polly',\n",
       "       'Anne, Sprig, Polly', 'Polly, Sprig, Anne', \"Hop Pop's voice\",\n",
       "       'Sprig and Anne', 'Anne, Polly', 'Sprig:', 'Anne:', 'Hop Pop:',\n",
       "       'Polly:', 'Sprig & Polly:', 'Sprig & Anne:', 'Anne & Sprig:',\n",
       "       '[Anne, Sprig screaming]', 'Anne & Polly', \"Sprig's voice\",\n",
       "       'Floating Sprig Head', 'Hop Hop', 'Kid Anne', 'Anne & Wally',\n",
       "       '[Polly laughs]', 'Polly/Sprig', 'Polly and Sprig',\n",
       "       'Anne/Polly/Sprig', 'Sprig & Polly', 'Polly & Sprig', 'Young Anne',\n",
       "       'Anne, Marcy Singing', 'Anne and Marcy', 'Anne and Sasha',\n",
       "       'Anne and Terri', '[Polly and Sprig]', 'Anne [offscreen]',\n",
       "       'Anne & Sasha'], dtype=object)"
      ]
     },
     "execution_count": 19,
     "metadata": {},
     "output_type": "execute_result"
    }
   ],
   "source": [
    "speakers_2_words[\"Speaker\"].unique()\n",
    "# could be removed: '[Polly laughs]', "
   ]
  },
  {
   "cell_type": "markdown",
   "metadata": {
    "heading_collapsed": "true"
   },
   "source": [
    "## Clean up Poly laughs"
   ]
  },
  {
   "cell_type": "code",
   "execution_count": 20,
   "metadata": {},
   "outputs": [],
   "source": [
    "cleaned_1 = speakers_2_words[speakers_2_words[\"Speaker\"] != '[Polly laughs]']"
   ]
  },
  {
   "cell_type": "code",
   "execution_count": 21,
   "metadata": {},
   "outputs": [
    {
     "data": {
      "text/plain": [
       "array(['Hop Pop Plantar', 'Sprig Plantar', 'Hop Pop', 'Sprig',\n",
       "       'Polly Plantar', 'Polly', 'Anne Boonchuy', 'Anne', 'Anne & Sprig',\n",
       "       'Anne and Sprig', 'Anne/Hop Pop', 'Sprig and Polly',\n",
       "       'Sprig, Polly, Anne', 'Flashback Anne', 'Hop Pop narrating',\n",
       "       'Anne reading', 'Anne and Polly', 'Anne/Polly',\n",
       "       'Anne, Sprig, Polly', 'Polly, Sprig, Anne', \"Hop Pop's voice\",\n",
       "       'Sprig and Anne', 'Anne, Polly', 'Sprig:', 'Anne:', 'Hop Pop:',\n",
       "       'Polly:', 'Sprig & Polly:', 'Sprig & Anne:', 'Anne & Sprig:',\n",
       "       '[Anne, Sprig screaming]', 'Anne & Polly', \"Sprig's voice\",\n",
       "       'Floating Sprig Head', 'Hop Hop', 'Kid Anne', 'Anne & Wally',\n",
       "       'Polly/Sprig', 'Polly and Sprig', 'Anne/Polly/Sprig',\n",
       "       'Sprig & Polly', 'Polly & Sprig', 'Young Anne',\n",
       "       'Anne, Marcy Singing', 'Anne and Marcy', 'Anne and Sasha',\n",
       "       'Anne and Terri', '[Polly and Sprig]', 'Anne [offscreen]',\n",
       "       'Anne & Sasha'], dtype=object)"
      ]
     },
     "execution_count": 21,
     "metadata": {},
     "output_type": "execute_result"
    }
   ],
   "source": [
    "cleaned_1[\"Speaker\"].unique()"
   ]
  },
  {
   "cell_type": "markdown",
   "metadata": {
    "heading_collapsed": "true"
   },
   "source": [
    "## Clean up [Anne, Sprig screaming]"
   ]
  },
  {
   "cell_type": "code",
   "execution_count": 22,
   "metadata": {},
   "outputs": [],
   "source": [
    "cleaned_2 = cleaned_1[cleaned_1[\"Speaker\"] != '[Anne, Sprig screaming]']"
   ]
  },
  {
   "cell_type": "code",
   "execution_count": 23,
   "metadata": {},
   "outputs": [
    {
     "data": {
      "text/plain": [
       "array(['Hop Pop Plantar', 'Sprig Plantar', 'Hop Pop', 'Sprig',\n",
       "       'Polly Plantar', 'Polly', 'Anne Boonchuy', 'Anne', 'Anne & Sprig',\n",
       "       'Anne and Sprig', 'Anne/Hop Pop', 'Sprig and Polly',\n",
       "       'Sprig, Polly, Anne', 'Flashback Anne', 'Hop Pop narrating',\n",
       "       'Anne reading', 'Anne and Polly', 'Anne/Polly',\n",
       "       'Anne, Sprig, Polly', 'Polly, Sprig, Anne', \"Hop Pop's voice\",\n",
       "       'Sprig and Anne', 'Anne, Polly', 'Sprig:', 'Anne:', 'Hop Pop:',\n",
       "       'Polly:', 'Sprig & Polly:', 'Sprig & Anne:', 'Anne & Sprig:',\n",
       "       'Anne & Polly', \"Sprig's voice\", 'Floating Sprig Head', 'Hop Hop',\n",
       "       'Kid Anne', 'Anne & Wally', 'Polly/Sprig', 'Polly and Sprig',\n",
       "       'Anne/Polly/Sprig', 'Sprig & Polly', 'Polly & Sprig', 'Young Anne',\n",
       "       'Anne, Marcy Singing', 'Anne and Marcy', 'Anne and Sasha',\n",
       "       'Anne and Terri', '[Polly and Sprig]', 'Anne [offscreen]',\n",
       "       'Anne & Sasha'], dtype=object)"
      ]
     },
     "execution_count": 23,
     "metadata": {},
     "output_type": "execute_result"
    }
   ],
   "source": [
    "cleaned_2[\"Speaker\"].unique()"
   ]
  },
  {
   "cell_type": "markdown",
   "metadata": {
    "heading_collapsed": "true"
   },
   "source": [
    "## Clean up \":\""
   ]
  },
  {
   "cell_type": "code",
   "execution_count": 24,
   "metadata": {},
   "outputs": [
    {
     "name": "stderr",
     "output_type": "stream",
     "text": [
      "/home/han/anaconda3/lib/python3.7/site-packages/ipykernel_launcher.py:1: SettingWithCopyWarning: \n",
      "A value is trying to be set on a copy of a slice from a DataFrame.\n",
      "Try using .loc[row_indexer,col_indexer] = value instead\n",
      "\n",
      "See the caveats in the documentation: https://pandas.pydata.org/pandas-docs/stable/user_guide/indexing.html#returning-a-view-versus-a-copy\n",
      "  \"\"\"Entry point for launching an IPython kernel.\n"
     ]
    }
   ],
   "source": [
    "cleaned_2[\"Speaker\"] = cleaned_2[\"Speaker\"].str.replace(\":\", \"\")"
   ]
  },
  {
   "cell_type": "code",
   "execution_count": 25,
   "metadata": {},
   "outputs": [
    {
     "data": {
      "text/plain": [
       "array(['Hop Pop Plantar', 'Sprig Plantar', 'Hop Pop', 'Sprig',\n",
       "       'Polly Plantar', 'Polly', 'Anne Boonchuy', 'Anne', 'Anne & Sprig',\n",
       "       'Anne and Sprig', 'Anne/Hop Pop', 'Sprig and Polly',\n",
       "       'Sprig, Polly, Anne', 'Flashback Anne', 'Hop Pop narrating',\n",
       "       'Anne reading', 'Anne and Polly', 'Anne/Polly',\n",
       "       'Anne, Sprig, Polly', 'Polly, Sprig, Anne', \"Hop Pop's voice\",\n",
       "       'Sprig and Anne', 'Anne, Polly', 'Sprig & Polly', 'Sprig & Anne',\n",
       "       'Anne & Polly', \"Sprig's voice\", 'Floating Sprig Head', 'Hop Hop',\n",
       "       'Kid Anne', 'Anne & Wally', 'Polly/Sprig', 'Polly and Sprig',\n",
       "       'Anne/Polly/Sprig', 'Polly & Sprig', 'Young Anne',\n",
       "       'Anne, Marcy Singing', 'Anne and Marcy', 'Anne and Sasha',\n",
       "       'Anne and Terri', '[Polly and Sprig]', 'Anne [offscreen]',\n",
       "       'Anne & Sasha'], dtype=object)"
      ]
     },
     "execution_count": 25,
     "metadata": {},
     "output_type": "execute_result"
    }
   ],
   "source": [
    "cleaned_2[\"Speaker\"].unique()"
   ]
  },
  {
   "cell_type": "markdown",
   "metadata": {
    "heading_collapsed": "true"
   },
   "source": [
    "## Clean up \"Plantar\""
   ]
  },
  {
   "cell_type": "code",
   "execution_count": 26,
   "metadata": {},
   "outputs": [
    {
     "name": "stderr",
     "output_type": "stream",
     "text": [
      "/home/han/anaconda3/lib/python3.7/site-packages/ipykernel_launcher.py:1: SettingWithCopyWarning: \n",
      "A value is trying to be set on a copy of a slice from a DataFrame.\n",
      "Try using .loc[row_indexer,col_indexer] = value instead\n",
      "\n",
      "See the caveats in the documentation: https://pandas.pydata.org/pandas-docs/stable/user_guide/indexing.html#returning-a-view-versus-a-copy\n",
      "  \"\"\"Entry point for launching an IPython kernel.\n"
     ]
    }
   ],
   "source": [
    "cleaned_2[\"Speaker\"] = cleaned_2[\"Speaker\"].str.replace(\" Plantar\", \"\")"
   ]
  },
  {
   "cell_type": "code",
   "execution_count": 27,
   "metadata": {},
   "outputs": [
    {
     "data": {
      "text/plain": [
       "array(['Hop Pop', 'Sprig', 'Polly', 'Anne Boonchuy', 'Anne',\n",
       "       'Anne & Sprig', 'Anne and Sprig', 'Anne/Hop Pop',\n",
       "       'Sprig and Polly', 'Sprig, Polly, Anne', 'Flashback Anne',\n",
       "       'Hop Pop narrating', 'Anne reading', 'Anne and Polly',\n",
       "       'Anne/Polly', 'Anne, Sprig, Polly', 'Polly, Sprig, Anne',\n",
       "       \"Hop Pop's voice\", 'Sprig and Anne', 'Anne, Polly',\n",
       "       'Sprig & Polly', 'Sprig & Anne', 'Anne & Polly', \"Sprig's voice\",\n",
       "       'Floating Sprig Head', 'Hop Hop', 'Kid Anne', 'Anne & Wally',\n",
       "       'Polly/Sprig', 'Polly and Sprig', 'Anne/Polly/Sprig',\n",
       "       'Polly & Sprig', 'Young Anne', 'Anne, Marcy Singing',\n",
       "       'Anne and Marcy', 'Anne and Sasha', 'Anne and Terri',\n",
       "       '[Polly and Sprig]', 'Anne [offscreen]', 'Anne & Sasha'],\n",
       "      dtype=object)"
      ]
     },
     "execution_count": 27,
     "metadata": {},
     "output_type": "execute_result"
    }
   ],
   "source": [
    "cleaned_2[\"Speaker\"].unique()"
   ]
  },
  {
   "cell_type": "markdown",
   "metadata": {
    "heading_collapsed": "true"
   },
   "source": [
    "## Clean up \"Boonchuy\""
   ]
  },
  {
   "cell_type": "code",
   "execution_count": 28,
   "metadata": {},
   "outputs": [
    {
     "name": "stderr",
     "output_type": "stream",
     "text": [
      "/home/han/anaconda3/lib/python3.7/site-packages/ipykernel_launcher.py:1: SettingWithCopyWarning: \n",
      "A value is trying to be set on a copy of a slice from a DataFrame.\n",
      "Try using .loc[row_indexer,col_indexer] = value instead\n",
      "\n",
      "See the caveats in the documentation: https://pandas.pydata.org/pandas-docs/stable/user_guide/indexing.html#returning-a-view-versus-a-copy\n",
      "  \"\"\"Entry point for launching an IPython kernel.\n"
     ]
    }
   ],
   "source": [
    "cleaned_2[\"Speaker\"] = cleaned_2[\"Speaker\"].str.replace(\" Boonchuy\", \"\")"
   ]
  },
  {
   "cell_type": "code",
   "execution_count": 29,
   "metadata": {},
   "outputs": [
    {
     "data": {
      "text/plain": [
       "array(['Hop Pop', 'Sprig', 'Polly', 'Anne', 'Anne & Sprig',\n",
       "       'Anne and Sprig', 'Anne/Hop Pop', 'Sprig and Polly',\n",
       "       'Sprig, Polly, Anne', 'Flashback Anne', 'Hop Pop narrating',\n",
       "       'Anne reading', 'Anne and Polly', 'Anne/Polly',\n",
       "       'Anne, Sprig, Polly', 'Polly, Sprig, Anne', \"Hop Pop's voice\",\n",
       "       'Sprig and Anne', 'Anne, Polly', 'Sprig & Polly', 'Sprig & Anne',\n",
       "       'Anne & Polly', \"Sprig's voice\", 'Floating Sprig Head', 'Hop Hop',\n",
       "       'Kid Anne', 'Anne & Wally', 'Polly/Sprig', 'Polly and Sprig',\n",
       "       'Anne/Polly/Sprig', 'Polly & Sprig', 'Young Anne',\n",
       "       'Anne, Marcy Singing', 'Anne and Marcy', 'Anne and Sasha',\n",
       "       'Anne and Terri', '[Polly and Sprig]', 'Anne [offscreen]',\n",
       "       'Anne & Sasha'], dtype=object)"
      ]
     },
     "execution_count": 29,
     "metadata": {},
     "output_type": "execute_result"
    }
   ],
   "source": [
    "cleaned_2[\"Speaker\"].unique()"
   ]
  },
  {
   "cell_type": "markdown",
   "metadata": {
    "heading_collapsed": "true"
   },
   "source": [
    "## Clean up \"Hop Hop\""
   ]
  },
  {
   "cell_type": "code",
   "execution_count": 30,
   "metadata": {},
   "outputs": [
    {
     "name": "stderr",
     "output_type": "stream",
     "text": [
      "/home/han/anaconda3/lib/python3.7/site-packages/ipykernel_launcher.py:1: SettingWithCopyWarning: \n",
      "A value is trying to be set on a copy of a slice from a DataFrame.\n",
      "Try using .loc[row_indexer,col_indexer] = value instead\n",
      "\n",
      "See the caveats in the documentation: https://pandas.pydata.org/pandas-docs/stable/user_guide/indexing.html#returning-a-view-versus-a-copy\n",
      "  \"\"\"Entry point for launching an IPython kernel.\n"
     ]
    }
   ],
   "source": [
    "cleaned_2[cleaned_2[\"Speaker\"] == \"Hop Hop\"][\"Speaker\"] = \"Hop Pop\""
   ]
  },
  {
   "cell_type": "code",
   "execution_count": 31,
   "metadata": {},
   "outputs": [
    {
     "data": {
      "text/plain": [
       "array(['Hop Pop', 'Sprig', 'Polly', 'Anne', 'Anne & Sprig',\n",
       "       'Anne and Sprig', 'Anne/Hop Pop', 'Sprig and Polly',\n",
       "       'Sprig, Polly, Anne', 'Flashback Anne', 'Hop Pop narrating',\n",
       "       'Anne reading', 'Anne and Polly', 'Anne/Polly',\n",
       "       'Anne, Sprig, Polly', 'Polly, Sprig, Anne', \"Hop Pop's voice\",\n",
       "       'Sprig and Anne', 'Anne, Polly', 'Sprig & Polly', 'Sprig & Anne',\n",
       "       'Anne & Polly', \"Sprig's voice\", 'Floating Sprig Head', 'Hop Hop',\n",
       "       'Kid Anne', 'Anne & Wally', 'Polly/Sprig', 'Polly and Sprig',\n",
       "       'Anne/Polly/Sprig', 'Polly & Sprig', 'Young Anne',\n",
       "       'Anne, Marcy Singing', 'Anne and Marcy', 'Anne and Sasha',\n",
       "       'Anne and Terri', '[Polly and Sprig]', 'Anne [offscreen]',\n",
       "       'Anne & Sasha'], dtype=object)"
      ]
     },
     "execution_count": 31,
     "metadata": {},
     "output_type": "execute_result"
    }
   ],
   "source": [
    "cleaned_2[\"Speaker\"].unique()"
   ]
  },
  {
   "cell_type": "markdown",
   "metadata": {
    "heading_collapsed": "true"
   },
   "source": [
    "## Clean up \"narrating\", \"Flashback\", \"'s voice\", \"Floating Sprig Head\", \"Kid\", \"Young \", \" reading\""
   ]
  },
  {
   "cell_type": "code",
   "execution_count": 32,
   "metadata": {},
   "outputs": [
    {
     "name": "stderr",
     "output_type": "stream",
     "text": [
      "/home/han/anaconda3/lib/python3.7/site-packages/ipykernel_launcher.py:5: SettingWithCopyWarning: \n",
      "A value is trying to be set on a copy of a slice from a DataFrame.\n",
      "Try using .loc[row_indexer,col_indexer] = value instead\n",
      "\n",
      "See the caveats in the documentation: https://pandas.pydata.org/pandas-docs/stable/user_guide/indexing.html#returning-a-view-versus-a-copy\n",
      "  \"\"\"\n"
     ]
    }
   ],
   "source": [
    "to_be_removed = [\" narrating\", \"Flashback \", \"'s voice\", \"Floating \", \"Kid \", \"Young \", \" reading\", \" Head\", \" Singing\"]\n",
    "for substring in to_be_removed:\n",
    "#     print(\"Substring:\", substring)\n",
    "#     print(cleaned_2[\"Speaker\"].unique())\n",
    "    cleaned_2[\"Speaker\"] = cleaned_2[\"Speaker\"].str.replace(substring, \"\")"
   ]
  },
  {
   "cell_type": "code",
   "execution_count": 33,
   "metadata": {},
   "outputs": [
    {
     "data": {
      "text/plain": [
       "array(['Hop Pop', 'Sprig', 'Polly', 'Anne', 'Anne & Sprig',\n",
       "       'Anne and Sprig', 'Anne/Hop Pop', 'Sprig and Polly',\n",
       "       'Sprig, Polly, Anne', 'Anne and Polly', 'Anne/Polly',\n",
       "       'Anne, Sprig, Polly', 'Polly, Sprig, Anne', 'Sprig and Anne',\n",
       "       'Anne, Polly', 'Sprig & Polly', 'Sprig & Anne', 'Anne & Polly',\n",
       "       'Hop Hop', 'Anne & Wally', 'Polly/Sprig', 'Polly and Sprig',\n",
       "       'Anne/Polly/Sprig', 'Polly & Sprig', 'Anne, Marcy',\n",
       "       'Anne and Marcy', 'Anne and Sasha', 'Anne and Terri',\n",
       "       '[Polly and Sprig]', 'Anne [offscreen]', 'Anne & Sasha'],\n",
       "      dtype=object)"
      ]
     },
     "execution_count": 33,
     "metadata": {},
     "output_type": "execute_result"
    }
   ],
   "source": [
    "cleaned_2[\"Speaker\"].unique()"
   ]
  },
  {
   "cell_type": "markdown",
   "metadata": {
    "heading_collapsed": "true"
   },
   "source": [
    "## Clean up \" [offscreen]\""
   ]
  },
  {
   "cell_type": "code",
   "execution_count": 34,
   "metadata": {},
   "outputs": [],
   "source": [
    "cleaned_3 = cleaned_2.copy()"
   ]
  },
  {
   "cell_type": "code",
   "execution_count": 35,
   "metadata": {},
   "outputs": [
    {
     "name": "stderr",
     "output_type": "stream",
     "text": [
      "/home/han/anaconda3/lib/python3.7/site-packages/ipykernel_launcher.py:1: FutureWarning: The default value of regex will change from True to False in a future version.\n",
      "  \"\"\"Entry point for launching an IPython kernel.\n"
     ]
    }
   ],
   "source": [
    "cleaned_3[\"Speaker\"] = cleaned_2[\"Speaker\"].str.replace(\" \\[offscreen\\]\", \"\")"
   ]
  },
  {
   "cell_type": "code",
   "execution_count": 36,
   "metadata": {},
   "outputs": [
    {
     "data": {
      "text/plain": [
       "array(['Hop Pop', 'Sprig', 'Polly', 'Anne', 'Anne & Sprig',\n",
       "       'Anne and Sprig', 'Anne/Hop Pop', 'Sprig and Polly',\n",
       "       'Sprig, Polly, Anne', 'Anne and Polly', 'Anne/Polly',\n",
       "       'Anne, Sprig, Polly', 'Polly, Sprig, Anne', 'Sprig and Anne',\n",
       "       'Anne, Polly', 'Sprig & Polly', 'Sprig & Anne', 'Anne & Polly',\n",
       "       'Hop Hop', 'Anne & Wally', 'Polly/Sprig', 'Polly and Sprig',\n",
       "       'Anne/Polly/Sprig', 'Polly & Sprig', 'Anne, Marcy',\n",
       "       'Anne and Marcy', 'Anne and Sasha', 'Anne and Terri',\n",
       "       '[Polly and Sprig]', 'Anne & Sasha'], dtype=object)"
      ]
     },
     "execution_count": 36,
     "metadata": {},
     "output_type": "execute_result"
    }
   ],
   "source": [
    "cleaned_3[\"Speaker\"].unique()"
   ]
  },
  {
   "cell_type": "markdown",
   "metadata": {
    "heading_collapsed": "true"
   },
   "source": [
    "## Replaces the \"[]\""
   ]
  },
  {
   "cell_type": "code",
   "execution_count": 37,
   "metadata": {},
   "outputs": [
    {
     "name": "stderr",
     "output_type": "stream",
     "text": [
      "/home/han/anaconda3/lib/python3.7/site-packages/ipykernel_launcher.py:1: FutureWarning: The default value of regex will change from True to False in a future version.\n",
      "  \"\"\"Entry point for launching an IPython kernel.\n",
      "/home/han/anaconda3/lib/python3.7/site-packages/ipykernel_launcher.py:2: FutureWarning: The default value of regex will change from True to False in a future version.\n",
      "  \n"
     ]
    }
   ],
   "source": [
    "cleaned_3[\"Speaker\"] = cleaned_3[\"Speaker\"].str.replace(\"\\[\", \"\")\n",
    "cleaned_3[\"Speaker\"] = cleaned_3[\"Speaker\"].str.replace(\"\\]\", \"\")"
   ]
  },
  {
   "cell_type": "code",
   "execution_count": 38,
   "metadata": {},
   "outputs": [
    {
     "data": {
      "text/plain": [
       "array(['Hop Pop', 'Sprig', 'Polly', 'Anne', 'Anne & Sprig',\n",
       "       'Anne and Sprig', 'Anne/Hop Pop', 'Sprig and Polly',\n",
       "       'Sprig, Polly, Anne', 'Anne and Polly', 'Anne/Polly',\n",
       "       'Anne, Sprig, Polly', 'Polly, Sprig, Anne', 'Sprig and Anne',\n",
       "       'Anne, Polly', 'Sprig & Polly', 'Sprig & Anne', 'Anne & Polly',\n",
       "       'Hop Hop', 'Anne & Wally', 'Polly/Sprig', 'Polly and Sprig',\n",
       "       'Anne/Polly/Sprig', 'Polly & Sprig', 'Anne, Marcy',\n",
       "       'Anne and Marcy', 'Anne and Sasha', 'Anne and Terri',\n",
       "       'Anne & Sasha'], dtype=object)"
      ]
     },
     "execution_count": 38,
     "metadata": {},
     "output_type": "execute_result"
    }
   ],
   "source": [
    "cleaned_3[\"Speaker\"].unique()"
   ]
  },
  {
   "cell_type": "code",
   "execution_count": 39,
   "metadata": {},
   "outputs": [
    {
     "data": {
      "text/plain": [
       "29"
      ]
     },
     "execution_count": 39,
     "metadata": {},
     "output_type": "execute_result"
    }
   ],
   "source": [
    "cleaned_3[\"Speaker\"].nunique()"
   ]
  },
  {
   "cell_type": "markdown",
   "metadata": {
    "heading_collapsed": "true"
   },
   "source": [
    "## replace any \"and\", \"&\" , \"/\""
   ]
  },
  {
   "cell_type": "code",
   "execution_count": 40,
   "metadata": {},
   "outputs": [
    {
     "data": {
      "text/plain": [
       "array(['Anne & Sprig', 'Anne and Sprig', 'Anne/Hop Pop',\n",
       "       'Sprig and Polly', 'Sprig, Polly, Anne', 'Anne and Polly',\n",
       "       'Anne/Polly', 'Anne, Sprig, Polly', 'Polly, Sprig, Anne',\n",
       "       'Sprig and Anne', 'Anne, Polly', 'Sprig & Polly', 'Sprig & Anne',\n",
       "       'Anne & Polly', 'Hop Hop', 'Anne & Wally', 'Polly/Sprig',\n",
       "       'Polly and Sprig', 'Anne/Polly/Sprig', 'Polly & Sprig',\n",
       "       'Anne, Marcy', 'Anne and Marcy', 'Anne and Sasha',\n",
       "       'Anne and Terri', 'Anne & Sasha'], dtype=object)"
      ]
     },
     "execution_count": 40,
     "metadata": {},
     "output_type": "execute_result"
    }
   ],
   "source": [
    "# check how many has more than 1 person \n",
    "main_speaker = ['Hop Pop', 'Sprig', 'Polly', 'Anne']\n",
    "tmp_mask = ~cleaned_3[\"Speaker\"].isin(main_speaker)\n",
    "cleaned_3.loc[tmp_mask][\"Speaker\"].unique()"
   ]
  },
  {
   "cell_type": "code",
   "execution_count": 44,
   "metadata": {},
   "outputs": [
    {
     "data": {
      "text/plain": [
       "array(['Anne,Sprig', 'Anne,Hop Pop', 'Sprig,Polly', 'Sprig,Polly,Anne',\n",
       "       'Anne,Polly', 'Anne,Sprig,Polly', 'Polly,Sprig,Anne', 'Sprig,Anne',\n",
       "       'Hop Hop', 'Anne,Wally', 'Polly,Sprig', 'Anne,Polly,Sprig',\n",
       "       'Anne,Marcy', 'Anne,Sasha', 'Anne,Terri'], dtype=object)"
      ]
     },
     "execution_count": 44,
     "metadata": {},
     "output_type": "execute_result"
    }
   ],
   "source": [
    "# see how many speakers left after removing the main one\n",
    "main_speaker = ['Hop Pop', 'Sprig', 'Polly', 'Anne']\n",
    "tmp_mask = ~cleaned_3[\"Speaker\"].isin(main_speaker)\n",
    "cleaned_3.loc[tmp_mask][\"Speaker\"].unique()"
   ]
  },
  {
   "cell_type": "markdown",
   "metadata": {
    "heading_collapsed": "true"
   },
   "source": [
    "### First replace the separator with a common separator"
   ]
  },
  {
   "cell_type": "code",
   "execution_count": 42,
   "metadata": {},
   "outputs": [],
   "source": [
    "separator_list = \" & \", \" and \", \"/\", \", \"\n",
    "for sep in separator_list:\n",
    "    cleaned_3[\"Speaker\"] = cleaned_3[\"Speaker\"].str.replace(sep, \",\")"
   ]
  },
  {
   "cell_type": "code",
   "execution_count": 43,
   "metadata": {},
   "outputs": [
    {
     "data": {
      "text/plain": [
       "array(['Hop Pop', 'Sprig', 'Polly', 'Anne', 'Anne,Sprig', 'Anne,Hop Pop',\n",
       "       'Sprig,Polly', 'Sprig,Polly,Anne', 'Anne,Polly',\n",
       "       'Anne,Sprig,Polly', 'Polly,Sprig,Anne', 'Sprig,Anne', 'Hop Hop',\n",
       "       'Anne,Wally', 'Polly,Sprig', 'Anne,Polly,Sprig', 'Anne,Marcy',\n",
       "       'Anne,Sasha', 'Anne,Terri'], dtype=object)"
      ]
     },
     "execution_count": 43,
     "metadata": {},
     "output_type": "execute_result"
    }
   ],
   "source": [
    "cleaned_3[\"Speaker\"].unique()"
   ]
  },
  {
   "cell_type": "markdown",
   "metadata": {
    "heading_collapsed": "true"
   },
   "source": [
    "### Turn all those with ',' into a list and expand"
   ]
  },
  {
   "cell_type": "code",
   "execution_count": 47,
   "metadata": {},
   "outputs": [],
   "source": [
    "cleaned_4 = cleaned_3.copy()"
   ]
  },
  {
   "cell_type": "code",
   "execution_count": 51,
   "metadata": {},
   "outputs": [],
   "source": [
    "# put into list and expand\n",
    "cleaned_4 = cleaned_4.assign(Speaker=cleaned_4['Speaker'].str.split(',')).explode(\"Speaker\")"
   ]
  },
  {
   "cell_type": "code",
   "execution_count": 52,
   "metadata": {},
   "outputs": [
    {
     "data": {
      "text/plain": [
       "array(['Hop Pop', 'Sprig', 'Polly', 'Anne', 'Hop Hop', 'Wally', 'Marcy',\n",
       "       'Sasha', 'Terri'], dtype=object)"
      ]
     },
     "execution_count": 52,
     "metadata": {},
     "output_type": "execute_result"
    }
   ],
   "source": [
    "cleaned_4[\"Speaker\"].unique()"
   ]
  },
  {
   "cell_type": "code",
   "execution_count": 53,
   "metadata": {},
   "outputs": [
    {
     "data": {
      "text/html": [
       "<div>\n",
       "<style scoped>\n",
       "    .dataframe tbody tr th:only-of-type {\n",
       "        vertical-align: middle;\n",
       "    }\n",
       "\n",
       "    .dataframe tbody tr th {\n",
       "        vertical-align: top;\n",
       "    }\n",
       "\n",
       "    .dataframe thead th {\n",
       "        text-align: right;\n",
       "    }\n",
       "</style>\n",
       "<table border=\"1\" class=\"dataframe\">\n",
       "  <thead>\n",
       "    <tr style=\"text-align: right;\">\n",
       "      <th></th>\n",
       "      <th>Speaker</th>\n",
       "      <th>Dialogue</th>\n",
       "      <th>Dialogue_num_in_eps</th>\n",
       "      <th>Episode_url</th>\n",
       "      <th>Episode #</th>\n",
       "      <th>Segment</th>\n",
       "      <th>Disney</th>\n",
       "      <th>Prod.</th>\n",
       "      <th>Title</th>\n",
       "      <th>Synopsis</th>\n",
       "      <th>Airdate</th>\n",
       "      <th>Viewers (millions)</th>\n",
       "      <th>Season</th>\n",
       "    </tr>\n",
       "  </thead>\n",
       "  <tbody>\n",
       "    <tr>\n",
       "      <th>16</th>\n",
       "      <td>Hop Pop</td>\n",
       "      <td>Ho. Ho. (Turns around.) All right, kids I'm go...</td>\n",
       "      <td>16</td>\n",
       "      <td>https://amphibia.fandom.com/wiki/Anne_or_Beast...</td>\n",
       "      <td>1.0</td>\n",
       "      <td>1a</td>\n",
       "      <td>103.0</td>\n",
       "      <td>TBA</td>\n",
       "      <td>Anne or Beast?</td>\n",
       "      <td>Sprig tries to capture a mysterious beast to p...</td>\n",
       "      <td>June 17, 2019</td>\n",
       "      <td>0.39</td>\n",
       "      <td>1.0</td>\n",
       "    </tr>\n",
       "    <tr>\n",
       "      <th>17</th>\n",
       "      <td>Sprig</td>\n",
       "      <td>You got it, Hop Pop! I'll defend this cart wit...</td>\n",
       "      <td>17</td>\n",
       "      <td>https://amphibia.fandom.com/wiki/Anne_or_Beast...</td>\n",
       "      <td>1.0</td>\n",
       "      <td>1a</td>\n",
       "      <td>103.0</td>\n",
       "      <td>TBA</td>\n",
       "      <td>Anne or Beast?</td>\n",
       "      <td>Sprig tries to capture a mysterious beast to p...</td>\n",
       "      <td>June 17, 2019</td>\n",
       "      <td>0.39</td>\n",
       "      <td>1.0</td>\n",
       "    </tr>\n",
       "    <tr>\n",
       "      <th>18</th>\n",
       "      <td>Hop Pop</td>\n",
       "      <td>Sprig, I was talking to Polly.</td>\n",
       "      <td>18</td>\n",
       "      <td>https://amphibia.fandom.com/wiki/Anne_or_Beast...</td>\n",
       "      <td>1.0</td>\n",
       "      <td>1a</td>\n",
       "      <td>103.0</td>\n",
       "      <td>TBA</td>\n",
       "      <td>Anne or Beast?</td>\n",
       "      <td>Sprig tries to capture a mysterious beast to p...</td>\n",
       "      <td>June 17, 2019</td>\n",
       "      <td>0.39</td>\n",
       "      <td>1.0</td>\n",
       "    </tr>\n",
       "    <tr>\n",
       "      <th>19</th>\n",
       "      <td>Sprig</td>\n",
       "      <td>What? Polly's a baby!</td>\n",
       "      <td>19</td>\n",
       "      <td>https://amphibia.fandom.com/wiki/Anne_or_Beast...</td>\n",
       "      <td>1.0</td>\n",
       "      <td>1a</td>\n",
       "      <td>103.0</td>\n",
       "      <td>TBA</td>\n",
       "      <td>Anne or Beast?</td>\n",
       "      <td>Sprig tries to capture a mysterious beast to p...</td>\n",
       "      <td>June 17, 2019</td>\n",
       "      <td>0.39</td>\n",
       "      <td>1.0</td>\n",
       "    </tr>\n",
       "    <tr>\n",
       "      <th>20</th>\n",
       "      <td>Polly</td>\n",
       "      <td>(points at Sprig) You're a baby!</td>\n",
       "      <td>20</td>\n",
       "      <td>https://amphibia.fandom.com/wiki/Anne_or_Beast...</td>\n",
       "      <td>1.0</td>\n",
       "      <td>1a</td>\n",
       "      <td>103.0</td>\n",
       "      <td>TBA</td>\n",
       "      <td>Anne or Beast?</td>\n",
       "      <td>Sprig tries to capture a mysterious beast to p...</td>\n",
       "      <td>June 17, 2019</td>\n",
       "      <td>0.39</td>\n",
       "      <td>1.0</td>\n",
       "    </tr>\n",
       "  </tbody>\n",
       "</table>\n",
       "</div>"
      ],
      "text/plain": [
       "    Speaker                                           Dialogue  \\\n",
       "16  Hop Pop  Ho. Ho. (Turns around.) All right, kids I'm go...   \n",
       "17    Sprig  You got it, Hop Pop! I'll defend this cart wit...   \n",
       "18  Hop Pop                     Sprig, I was talking to Polly.   \n",
       "19    Sprig                              What? Polly's a baby!   \n",
       "20    Polly                   (points at Sprig) You're a baby!   \n",
       "\n",
       "    Dialogue_num_in_eps                                        Episode_url  \\\n",
       "16                   16  https://amphibia.fandom.com/wiki/Anne_or_Beast...   \n",
       "17                   17  https://amphibia.fandom.com/wiki/Anne_or_Beast...   \n",
       "18                   18  https://amphibia.fandom.com/wiki/Anne_or_Beast...   \n",
       "19                   19  https://amphibia.fandom.com/wiki/Anne_or_Beast...   \n",
       "20                   20  https://amphibia.fandom.com/wiki/Anne_or_Beast...   \n",
       "\n",
       "    Episode # Segment  Disney Prod.           Title  \\\n",
       "16        1.0      1a   103.0   TBA  Anne or Beast?   \n",
       "17        1.0      1a   103.0   TBA  Anne or Beast?   \n",
       "18        1.0      1a   103.0   TBA  Anne or Beast?   \n",
       "19        1.0      1a   103.0   TBA  Anne or Beast?   \n",
       "20        1.0      1a   103.0   TBA  Anne or Beast?   \n",
       "\n",
       "                                             Synopsis        Airdate  \\\n",
       "16  Sprig tries to capture a mysterious beast to p...  June 17, 2019   \n",
       "17  Sprig tries to capture a mysterious beast to p...  June 17, 2019   \n",
       "18  Sprig tries to capture a mysterious beast to p...  June 17, 2019   \n",
       "19  Sprig tries to capture a mysterious beast to p...  June 17, 2019   \n",
       "20  Sprig tries to capture a mysterious beast to p...  June 17, 2019   \n",
       "\n",
       "    Viewers (millions)  Season  \n",
       "16                0.39     1.0  \n",
       "17                0.39     1.0  \n",
       "18                0.39     1.0  \n",
       "19                0.39     1.0  \n",
       "20                0.39     1.0  "
      ]
     },
     "execution_count": 53,
     "metadata": {},
     "output_type": "execute_result"
    }
   ],
   "source": [
    "cleaned_4.head()"
   ]
  },
  {
   "cell_type": "code",
   "execution_count": 54,
   "metadata": {},
   "outputs": [
    {
     "data": {
      "text/plain": [
       "Index(['Speaker', 'Dialogue', 'Dialogue_num_in_eps', 'Episode_url',\n",
       "       'Episode #', 'Segment', 'Disney', 'Prod.', 'Title', 'Synopsis',\n",
       "       'Airdate', 'Viewers (millions)', 'Season'],\n",
       "      dtype='object')"
      ]
     },
     "execution_count": 54,
     "metadata": {},
     "output_type": "execute_result"
    }
   ],
   "source": [
    "cleaned_4.columns"
   ]
  },
  {
   "cell_type": "markdown",
   "metadata": {},
   "source": [
    "## Search for the main 4 again"
   ]
  },
  {
   "cell_type": "code",
   "execution_count": 67,
   "metadata": {},
   "outputs": [],
   "source": [
    "searchfor = ['Anne', 'Sprig', 'Hop', 'Polly', ]\n",
    "cleaned_5 = cleaned_4[cleaned_4[\"Speaker\"].str.contains('|'.join(searchfor), case=False)]"
   ]
  },
  {
   "cell_type": "code",
   "execution_count": 68,
   "metadata": {},
   "outputs": [
    {
     "data": {
      "text/plain": [
       "array(['Hop Pop', 'Sprig', 'Polly', 'Anne', 'Hop Hop'], dtype=object)"
      ]
     },
     "execution_count": 68,
     "metadata": {},
     "output_type": "execute_result"
    }
   ],
   "source": [
    "cleaned_5[\"Speaker\"].unique()"
   ]
  },
  {
   "cell_type": "markdown",
   "metadata": {},
   "source": [
    "# Clean up the Dialogue_num_in_eps"
   ]
  },
  {
   "cell_type": "code",
   "execution_count": 69,
   "metadata": {},
   "outputs": [
    {
     "name": "stderr",
     "output_type": "stream",
     "text": [
      "/home/han/anaconda3/lib/python3.7/site-packages/ipykernel_launcher.py:5: SettingWithCopyWarning: \n",
      "A value is trying to be set on a copy of a slice from a DataFrame.\n",
      "Try using .loc[row_indexer,col_indexer] = value instead\n",
      "\n",
      "See the caveats in the documentation: https://pandas.pydata.org/pandas-docs/stable/user_guide/indexing.html#returning-a-view-versus-a-copy\n",
      "  \"\"\"\n"
     ]
    }
   ],
   "source": [
    "# Clean up the Dialogue_num_in_eps\n",
    "df_list = []\n",
    "for title in cleaned_5[\"Title\"].unique():\n",
    "    tmp_df = cleaned_5[cleaned_5.Title == title]\n",
    "    tmp_df[\"new_dialogue_index_in_eps\"] = np.arange(1, len(tmp_df) + 1)\n",
    "    df_list.append(tmp_df)"
   ]
  },
  {
   "cell_type": "code",
   "execution_count": 70,
   "metadata": {},
   "outputs": [
    {
     "data": {
      "text/html": [
       "<div>\n",
       "<style scoped>\n",
       "    .dataframe tbody tr th:only-of-type {\n",
       "        vertical-align: middle;\n",
       "    }\n",
       "\n",
       "    .dataframe tbody tr th {\n",
       "        vertical-align: top;\n",
       "    }\n",
       "\n",
       "    .dataframe thead th {\n",
       "        text-align: right;\n",
       "    }\n",
       "</style>\n",
       "<table border=\"1\" class=\"dataframe\">\n",
       "  <thead>\n",
       "    <tr style=\"text-align: right;\">\n",
       "      <th></th>\n",
       "      <th>Speaker</th>\n",
       "      <th>Dialogue</th>\n",
       "      <th>Dialogue_num_in_eps</th>\n",
       "      <th>Episode_url</th>\n",
       "      <th>Episode #</th>\n",
       "      <th>Segment</th>\n",
       "      <th>Disney</th>\n",
       "      <th>Prod.</th>\n",
       "      <th>Title</th>\n",
       "      <th>Synopsis</th>\n",
       "      <th>Airdate</th>\n",
       "      <th>Viewers (millions)</th>\n",
       "      <th>Season</th>\n",
       "      <th>new_dialogue_index_in_eps</th>\n",
       "    </tr>\n",
       "  </thead>\n",
       "  <tbody>\n",
       "    <tr>\n",
       "      <th>0</th>\n",
       "      <td>Hop Pop</td>\n",
       "      <td>Ho. Ho. (Turns around.) All right, kids I'm go...</td>\n",
       "      <td>16</td>\n",
       "      <td>https://amphibia.fandom.com/wiki/Anne_or_Beast...</td>\n",
       "      <td>1.0</td>\n",
       "      <td>1a</td>\n",
       "      <td>103.0</td>\n",
       "      <td>TBA</td>\n",
       "      <td>Anne or Beast?</td>\n",
       "      <td>Sprig tries to capture a mysterious beast to p...</td>\n",
       "      <td>June 17, 2019</td>\n",
       "      <td>0.39</td>\n",
       "      <td>1.0</td>\n",
       "      <td>1</td>\n",
       "    </tr>\n",
       "    <tr>\n",
       "      <th>1</th>\n",
       "      <td>Sprig</td>\n",
       "      <td>You got it, Hop Pop! I'll defend this cart wit...</td>\n",
       "      <td>17</td>\n",
       "      <td>https://amphibia.fandom.com/wiki/Anne_or_Beast...</td>\n",
       "      <td>1.0</td>\n",
       "      <td>1a</td>\n",
       "      <td>103.0</td>\n",
       "      <td>TBA</td>\n",
       "      <td>Anne or Beast?</td>\n",
       "      <td>Sprig tries to capture a mysterious beast to p...</td>\n",
       "      <td>June 17, 2019</td>\n",
       "      <td>0.39</td>\n",
       "      <td>1.0</td>\n",
       "      <td>2</td>\n",
       "    </tr>\n",
       "    <tr>\n",
       "      <th>2</th>\n",
       "      <td>Hop Pop</td>\n",
       "      <td>Sprig, I was talking to Polly.</td>\n",
       "      <td>18</td>\n",
       "      <td>https://amphibia.fandom.com/wiki/Anne_or_Beast...</td>\n",
       "      <td>1.0</td>\n",
       "      <td>1a</td>\n",
       "      <td>103.0</td>\n",
       "      <td>TBA</td>\n",
       "      <td>Anne or Beast?</td>\n",
       "      <td>Sprig tries to capture a mysterious beast to p...</td>\n",
       "      <td>June 17, 2019</td>\n",
       "      <td>0.39</td>\n",
       "      <td>1.0</td>\n",
       "      <td>3</td>\n",
       "    </tr>\n",
       "    <tr>\n",
       "      <th>3</th>\n",
       "      <td>Sprig</td>\n",
       "      <td>What? Polly's a baby!</td>\n",
       "      <td>19</td>\n",
       "      <td>https://amphibia.fandom.com/wiki/Anne_or_Beast...</td>\n",
       "      <td>1.0</td>\n",
       "      <td>1a</td>\n",
       "      <td>103.0</td>\n",
       "      <td>TBA</td>\n",
       "      <td>Anne or Beast?</td>\n",
       "      <td>Sprig tries to capture a mysterious beast to p...</td>\n",
       "      <td>June 17, 2019</td>\n",
       "      <td>0.39</td>\n",
       "      <td>1.0</td>\n",
       "      <td>4</td>\n",
       "    </tr>\n",
       "    <tr>\n",
       "      <th>4</th>\n",
       "      <td>Polly</td>\n",
       "      <td>(points at Sprig) You're a baby!</td>\n",
       "      <td>20</td>\n",
       "      <td>https://amphibia.fandom.com/wiki/Anne_or_Beast...</td>\n",
       "      <td>1.0</td>\n",
       "      <td>1a</td>\n",
       "      <td>103.0</td>\n",
       "      <td>TBA</td>\n",
       "      <td>Anne or Beast?</td>\n",
       "      <td>Sprig tries to capture a mysterious beast to p...</td>\n",
       "      <td>June 17, 2019</td>\n",
       "      <td>0.39</td>\n",
       "      <td>1.0</td>\n",
       "      <td>5</td>\n",
       "    </tr>\n",
       "  </tbody>\n",
       "</table>\n",
       "</div>"
      ],
      "text/plain": [
       "   Speaker                                           Dialogue  \\\n",
       "0  Hop Pop  Ho. Ho. (Turns around.) All right, kids I'm go...   \n",
       "1    Sprig  You got it, Hop Pop! I'll defend this cart wit...   \n",
       "2  Hop Pop                     Sprig, I was talking to Polly.   \n",
       "3    Sprig                              What? Polly's a baby!   \n",
       "4    Polly                   (points at Sprig) You're a baby!   \n",
       "\n",
       "   Dialogue_num_in_eps                                        Episode_url  \\\n",
       "0                   16  https://amphibia.fandom.com/wiki/Anne_or_Beast...   \n",
       "1                   17  https://amphibia.fandom.com/wiki/Anne_or_Beast...   \n",
       "2                   18  https://amphibia.fandom.com/wiki/Anne_or_Beast...   \n",
       "3                   19  https://amphibia.fandom.com/wiki/Anne_or_Beast...   \n",
       "4                   20  https://amphibia.fandom.com/wiki/Anne_or_Beast...   \n",
       "\n",
       "   Episode # Segment  Disney Prod.           Title  \\\n",
       "0        1.0      1a   103.0   TBA  Anne or Beast?   \n",
       "1        1.0      1a   103.0   TBA  Anne or Beast?   \n",
       "2        1.0      1a   103.0   TBA  Anne or Beast?   \n",
       "3        1.0      1a   103.0   TBA  Anne or Beast?   \n",
       "4        1.0      1a   103.0   TBA  Anne or Beast?   \n",
       "\n",
       "                                            Synopsis        Airdate  \\\n",
       "0  Sprig tries to capture a mysterious beast to p...  June 17, 2019   \n",
       "1  Sprig tries to capture a mysterious beast to p...  June 17, 2019   \n",
       "2  Sprig tries to capture a mysterious beast to p...  June 17, 2019   \n",
       "3  Sprig tries to capture a mysterious beast to p...  June 17, 2019   \n",
       "4  Sprig tries to capture a mysterious beast to p...  June 17, 2019   \n",
       "\n",
       "   Viewers (millions)  Season  new_dialogue_index_in_eps  \n",
       "0                0.39     1.0                          1  \n",
       "1                0.39     1.0                          2  \n",
       "2                0.39     1.0                          3  \n",
       "3                0.39     1.0                          4  \n",
       "4                0.39     1.0                          5  "
      ]
     },
     "execution_count": 70,
     "metadata": {},
     "output_type": "execute_result"
    }
   ],
   "source": [
    "cleaned_6 = pd.concat(df_list, axis=0, ignore_index=True)\n",
    "cleaned_6.head()"
   ]
  },
  {
   "cell_type": "code",
   "execution_count": 71,
   "metadata": {},
   "outputs": [
    {
     "data": {
      "text/plain": [
       "6236"
      ]
     },
     "execution_count": 71,
     "metadata": {},
     "output_type": "execute_result"
    }
   ],
   "source": [
    "len(cleaned_6)"
   ]
  },
  {
   "cell_type": "code",
   "execution_count": 72,
   "metadata": {},
   "outputs": [
    {
     "data": {
      "text/plain": [
       "array(['Hop Pop', 'Sprig', 'Polly', 'Anne', 'Hop Hop'], dtype=object)"
      ]
     },
     "execution_count": 72,
     "metadata": {},
     "output_type": "execute_result"
    }
   ],
   "source": [
    "cleaned_6[\"Speaker\"].unique()"
   ]
  },
  {
   "cell_type": "code",
   "execution_count": 73,
   "metadata": {},
   "outputs": [],
   "source": [
    "cleaned_6.to_excel(\"final_cleaned.xlsx\", index=False)"
   ]
  },
  {
   "cell_type": "markdown",
   "metadata": {},
   "source": [
    "# Join to the data scraped from imdb"
   ]
  },
  {
   "cell_type": "code",
   "execution_count": 26,
   "metadata": {},
   "outputs": [],
   "source": [
    "cleaned_6 = pd.read_excel(\"final_cleaned.xlsx\")"
   ]
  },
  {
   "cell_type": "code",
   "execution_count": 43,
   "metadata": {},
   "outputs": [],
   "source": [
    "ratings_df = pd.read_excel(\"ratings_imdb.xlsx\")"
   ]
  },
  {
   "cell_type": "code",
   "execution_count": 33,
   "metadata": {},
   "outputs": [
    {
     "data": {
      "text/html": [
       "<div>\n",
       "<style scoped>\n",
       "    .dataframe tbody tr th:only-of-type {\n",
       "        vertical-align: middle;\n",
       "    }\n",
       "\n",
       "    .dataframe tbody tr th {\n",
       "        vertical-align: top;\n",
       "    }\n",
       "\n",
       "    .dataframe thead th {\n",
       "        text-align: right;\n",
       "    }\n",
       "</style>\n",
       "<table border=\"1\" class=\"dataframe\">\n",
       "  <thead>\n",
       "    <tr style=\"text-align: right;\">\n",
       "      <th></th>\n",
       "      <th>Speaker</th>\n",
       "      <th>Dialogue</th>\n",
       "      <th>Dialogue_num_in_eps</th>\n",
       "      <th>Episode_url</th>\n",
       "      <th>Episode #</th>\n",
       "      <th>Segment</th>\n",
       "      <th>Disney</th>\n",
       "      <th>Prod.</th>\n",
       "      <th>Title</th>\n",
       "      <th>Synopsis</th>\n",
       "      <th>Airdate</th>\n",
       "      <th>Viewers (millions)</th>\n",
       "      <th>Season</th>\n",
       "      <th>new_dialogue_index_in_eps</th>\n",
       "    </tr>\n",
       "  </thead>\n",
       "  <tbody>\n",
       "    <tr>\n",
       "      <th>0</th>\n",
       "      <td>Hop Pop</td>\n",
       "      <td>Ho. Ho. (Turns around.) All right, kids I'm go...</td>\n",
       "      <td>16</td>\n",
       "      <td>https://amphibia.fandom.com/wiki/Anne_or_Beast...</td>\n",
       "      <td>1</td>\n",
       "      <td>1a</td>\n",
       "      <td>103</td>\n",
       "      <td>TBA</td>\n",
       "      <td>Anne or Beast?</td>\n",
       "      <td>Sprig tries to capture a mysterious beast to p...</td>\n",
       "      <td>June 17, 2019</td>\n",
       "      <td>0.39</td>\n",
       "      <td>1</td>\n",
       "      <td>1</td>\n",
       "    </tr>\n",
       "    <tr>\n",
       "      <th>1</th>\n",
       "      <td>Sprig</td>\n",
       "      <td>You got it, Hop Pop! I'll defend this cart wit...</td>\n",
       "      <td>17</td>\n",
       "      <td>https://amphibia.fandom.com/wiki/Anne_or_Beast...</td>\n",
       "      <td>1</td>\n",
       "      <td>1a</td>\n",
       "      <td>103</td>\n",
       "      <td>TBA</td>\n",
       "      <td>Anne or Beast?</td>\n",
       "      <td>Sprig tries to capture a mysterious beast to p...</td>\n",
       "      <td>June 17, 2019</td>\n",
       "      <td>0.39</td>\n",
       "      <td>1</td>\n",
       "      <td>2</td>\n",
       "    </tr>\n",
       "  </tbody>\n",
       "</table>\n",
       "</div>"
      ],
      "text/plain": [
       "   Speaker                                           Dialogue  \\\n",
       "0  Hop Pop  Ho. Ho. (Turns around.) All right, kids I'm go...   \n",
       "1    Sprig  You got it, Hop Pop! I'll defend this cart wit...   \n",
       "\n",
       "   Dialogue_num_in_eps                                        Episode_url  \\\n",
       "0                   16  https://amphibia.fandom.com/wiki/Anne_or_Beast...   \n",
       "1                   17  https://amphibia.fandom.com/wiki/Anne_or_Beast...   \n",
       "\n",
       "   Episode # Segment  Disney Prod.           Title  \\\n",
       "0          1      1a     103   TBA  Anne or Beast?   \n",
       "1          1      1a     103   TBA  Anne or Beast?   \n",
       "\n",
       "                                            Synopsis        Airdate  \\\n",
       "0  Sprig tries to capture a mysterious beast to p...  June 17, 2019   \n",
       "1  Sprig tries to capture a mysterious beast to p...  June 17, 2019   \n",
       "\n",
       "   Viewers (millions)  Season  new_dialogue_index_in_eps  \n",
       "0                0.39       1                          1  \n",
       "1                0.39       1                          2  "
      ]
     },
     "execution_count": 33,
     "metadata": {},
     "output_type": "execute_result"
    }
   ],
   "source": [
    "cleaned_6.head(2)"
   ]
  },
  {
   "cell_type": "code",
   "execution_count": 34,
   "metadata": {},
   "outputs": [
    {
     "data": {
      "text/html": [
       "<div>\n",
       "<style scoped>\n",
       "    .dataframe tbody tr th:only-of-type {\n",
       "        vertical-align: middle;\n",
       "    }\n",
       "\n",
       "    .dataframe tbody tr th {\n",
       "        vertical-align: top;\n",
       "    }\n",
       "\n",
       "    .dataframe thead th {\n",
       "        text-align: right;\n",
       "    }\n",
       "</style>\n",
       "<table border=\"1\" class=\"dataframe\">\n",
       "  <thead>\n",
       "    <tr style=\"text-align: right;\">\n",
       "      <th></th>\n",
       "      <th>Title</th>\n",
       "      <th>Ratings_imdb</th>\n",
       "      <th>Voter_count_imdb</th>\n",
       "      <th>Season</th>\n",
       "    </tr>\n",
       "  </thead>\n",
       "  <tbody>\n",
       "    <tr>\n",
       "      <th>0</th>\n",
       "      <td>Anne or Beast?</td>\n",
       "      <td>7.8</td>\n",
       "      <td>472</td>\n",
       "      <td>1</td>\n",
       "    </tr>\n",
       "    <tr>\n",
       "      <th>1</th>\n",
       "      <td>Best Fronds</td>\n",
       "      <td>7.8</td>\n",
       "      <td>472</td>\n",
       "      <td>1</td>\n",
       "    </tr>\n",
       "  </tbody>\n",
       "</table>\n",
       "</div>"
      ],
      "text/plain": [
       "            Title  Ratings_imdb Voter_count_imdb  Season\n",
       "0  Anne or Beast?           7.8              472       1\n",
       "1     Best Fronds           7.8              472       1"
      ]
     },
     "execution_count": 34,
     "metadata": {},
     "output_type": "execute_result"
    }
   ],
   "source": [
    "ratings_df.head(2)"
   ]
  },
  {
   "cell_type": "code",
   "execution_count": 35,
   "metadata": {},
   "outputs": [
    {
     "data": {
      "text/html": [
       "<div>\n",
       "<style scoped>\n",
       "    .dataframe tbody tr th:only-of-type {\n",
       "        vertical-align: middle;\n",
       "    }\n",
       "\n",
       "    .dataframe tbody tr th {\n",
       "        vertical-align: top;\n",
       "    }\n",
       "\n",
       "    .dataframe thead th {\n",
       "        text-align: right;\n",
       "    }\n",
       "</style>\n",
       "<table border=\"1\" class=\"dataframe\">\n",
       "  <thead>\n",
       "    <tr style=\"text-align: right;\">\n",
       "      <th></th>\n",
       "      <th>Speaker</th>\n",
       "      <th>Dialogue</th>\n",
       "      <th>Dialogue_num_in_eps</th>\n",
       "      <th>Episode_url</th>\n",
       "      <th>Episode #</th>\n",
       "      <th>Segment</th>\n",
       "      <th>Disney</th>\n",
       "      <th>Prod.</th>\n",
       "      <th>Title</th>\n",
       "      <th>Synopsis</th>\n",
       "      <th>Airdate</th>\n",
       "      <th>Viewers (millions)</th>\n",
       "      <th>Season</th>\n",
       "      <th>new_dialogue_index_in_eps</th>\n",
       "      <th>Ratings_imdb</th>\n",
       "      <th>Voter_count_imdb</th>\n",
       "    </tr>\n",
       "  </thead>\n",
       "  <tbody>\n",
       "    <tr>\n",
       "      <th>0</th>\n",
       "      <td>Hop Pop</td>\n",
       "      <td>Ho. Ho. (Turns around.) All right, kids I'm go...</td>\n",
       "      <td>16</td>\n",
       "      <td>https://amphibia.fandom.com/wiki/Anne_or_Beast...</td>\n",
       "      <td>1</td>\n",
       "      <td>1a</td>\n",
       "      <td>103</td>\n",
       "      <td>TBA</td>\n",
       "      <td>Anne or Beast?</td>\n",
       "      <td>Sprig tries to capture a mysterious beast to p...</td>\n",
       "      <td>June 17, 2019</td>\n",
       "      <td>0.39</td>\n",
       "      <td>1</td>\n",
       "      <td>1</td>\n",
       "      <td>7.8</td>\n",
       "      <td>472</td>\n",
       "    </tr>\n",
       "    <tr>\n",
       "      <th>1</th>\n",
       "      <td>Sprig</td>\n",
       "      <td>You got it, Hop Pop! I'll defend this cart wit...</td>\n",
       "      <td>17</td>\n",
       "      <td>https://amphibia.fandom.com/wiki/Anne_or_Beast...</td>\n",
       "      <td>1</td>\n",
       "      <td>1a</td>\n",
       "      <td>103</td>\n",
       "      <td>TBA</td>\n",
       "      <td>Anne or Beast?</td>\n",
       "      <td>Sprig tries to capture a mysterious beast to p...</td>\n",
       "      <td>June 17, 2019</td>\n",
       "      <td>0.39</td>\n",
       "      <td>1</td>\n",
       "      <td>2</td>\n",
       "      <td>7.8</td>\n",
       "      <td>472</td>\n",
       "    </tr>\n",
       "    <tr>\n",
       "      <th>2</th>\n",
       "      <td>Hop Pop</td>\n",
       "      <td>Sprig, I was talking to Polly.</td>\n",
       "      <td>18</td>\n",
       "      <td>https://amphibia.fandom.com/wiki/Anne_or_Beast...</td>\n",
       "      <td>1</td>\n",
       "      <td>1a</td>\n",
       "      <td>103</td>\n",
       "      <td>TBA</td>\n",
       "      <td>Anne or Beast?</td>\n",
       "      <td>Sprig tries to capture a mysterious beast to p...</td>\n",
       "      <td>June 17, 2019</td>\n",
       "      <td>0.39</td>\n",
       "      <td>1</td>\n",
       "      <td>3</td>\n",
       "      <td>7.8</td>\n",
       "      <td>472</td>\n",
       "    </tr>\n",
       "    <tr>\n",
       "      <th>3</th>\n",
       "      <td>Sprig</td>\n",
       "      <td>What? Polly's a baby!</td>\n",
       "      <td>19</td>\n",
       "      <td>https://amphibia.fandom.com/wiki/Anne_or_Beast...</td>\n",
       "      <td>1</td>\n",
       "      <td>1a</td>\n",
       "      <td>103</td>\n",
       "      <td>TBA</td>\n",
       "      <td>Anne or Beast?</td>\n",
       "      <td>Sprig tries to capture a mysterious beast to p...</td>\n",
       "      <td>June 17, 2019</td>\n",
       "      <td>0.39</td>\n",
       "      <td>1</td>\n",
       "      <td>4</td>\n",
       "      <td>7.8</td>\n",
       "      <td>472</td>\n",
       "    </tr>\n",
       "    <tr>\n",
       "      <th>4</th>\n",
       "      <td>Polly</td>\n",
       "      <td>(points at Sprig) You're a baby!</td>\n",
       "      <td>20</td>\n",
       "      <td>https://amphibia.fandom.com/wiki/Anne_or_Beast...</td>\n",
       "      <td>1</td>\n",
       "      <td>1a</td>\n",
       "      <td>103</td>\n",
       "      <td>TBA</td>\n",
       "      <td>Anne or Beast?</td>\n",
       "      <td>Sprig tries to capture a mysterious beast to p...</td>\n",
       "      <td>June 17, 2019</td>\n",
       "      <td>0.39</td>\n",
       "      <td>1</td>\n",
       "      <td>5</td>\n",
       "      <td>7.8</td>\n",
       "      <td>472</td>\n",
       "    </tr>\n",
       "  </tbody>\n",
       "</table>\n",
       "</div>"
      ],
      "text/plain": [
       "   Speaker                                           Dialogue  \\\n",
       "0  Hop Pop  Ho. Ho. (Turns around.) All right, kids I'm go...   \n",
       "1    Sprig  You got it, Hop Pop! I'll defend this cart wit...   \n",
       "2  Hop Pop                     Sprig, I was talking to Polly.   \n",
       "3    Sprig                              What? Polly's a baby!   \n",
       "4    Polly                   (points at Sprig) You're a baby!   \n",
       "\n",
       "   Dialogue_num_in_eps                                        Episode_url  \\\n",
       "0                   16  https://amphibia.fandom.com/wiki/Anne_or_Beast...   \n",
       "1                   17  https://amphibia.fandom.com/wiki/Anne_or_Beast...   \n",
       "2                   18  https://amphibia.fandom.com/wiki/Anne_or_Beast...   \n",
       "3                   19  https://amphibia.fandom.com/wiki/Anne_or_Beast...   \n",
       "4                   20  https://amphibia.fandom.com/wiki/Anne_or_Beast...   \n",
       "\n",
       "   Episode # Segment  Disney Prod.           Title  \\\n",
       "0          1      1a     103   TBA  Anne or Beast?   \n",
       "1          1      1a     103   TBA  Anne or Beast?   \n",
       "2          1      1a     103   TBA  Anne or Beast?   \n",
       "3          1      1a     103   TBA  Anne or Beast?   \n",
       "4          1      1a     103   TBA  Anne or Beast?   \n",
       "\n",
       "                                            Synopsis        Airdate  \\\n",
       "0  Sprig tries to capture a mysterious beast to p...  June 17, 2019   \n",
       "1  Sprig tries to capture a mysterious beast to p...  June 17, 2019   \n",
       "2  Sprig tries to capture a mysterious beast to p...  June 17, 2019   \n",
       "3  Sprig tries to capture a mysterious beast to p...  June 17, 2019   \n",
       "4  Sprig tries to capture a mysterious beast to p...  June 17, 2019   \n",
       "\n",
       "   Viewers (millions)  Season  new_dialogue_index_in_eps  Ratings_imdb  \\\n",
       "0                0.39       1                          1           7.8   \n",
       "1                0.39       1                          2           7.8   \n",
       "2                0.39       1                          3           7.8   \n",
       "3                0.39       1                          4           7.8   \n",
       "4                0.39       1                          5           7.8   \n",
       "\n",
       "  Voter_count_imdb  \n",
       "0              472  \n",
       "1              472  \n",
       "2              472  \n",
       "3              472  \n",
       "4              472  "
      ]
     },
     "execution_count": 35,
     "metadata": {},
     "output_type": "execute_result"
    }
   ],
   "source": [
    "# join to cleaned_6\n",
    "ratings_df_cols = [\"Title\",\"Ratings_imdb\", \"Voter_count_imdb\"]\n",
    "cleaned_7 = cleaned_6.merge(ratings_df[ratings_df_cols], how=\"left\", on=\"Title\")\n",
    "cleaned_7.head()"
   ]
  },
  {
   "cell_type": "code",
   "execution_count": 36,
   "metadata": {},
   "outputs": [
    {
     "data": {
      "text/plain": [
       "True"
      ]
     },
     "execution_count": 36,
     "metadata": {},
     "output_type": "execute_result"
    }
   ],
   "source": [
    "# find any null\n",
    "cleaned_7[\"Ratings_imdb\"].isna().values.any()"
   ]
  },
  {
   "cell_type": "code",
   "execution_count": 37,
   "metadata": {},
   "outputs": [
    {
     "data": {
      "text/plain": [
       "array(['Flood, Sweat & Tears', 'Sprig Vs. Hop Pop', 'Anne Vs. Wild',\n",
       "       'Croak & Punishment', 'A Night at the Inn', 'Anne of the Year',\n",
       "       'A Caravan Named Desire', 'Maddie & Marcy'], dtype=object)"
      ]
     },
     "execution_count": 37,
     "metadata": {},
     "output_type": "execute_result"
    }
   ],
   "source": [
    "# find which ratings is null\n",
    "tmp_mask = cleaned_7[\"Ratings_imdb\"].isnull()\n",
    "cleaned_7.loc[tmp_mask][\"Title\"].unique()  # find the title in cleaned_7 which are not in imdb's"
   ]
  },
  {
   "cell_type": "code",
   "execution_count": 38,
   "metadata": {},
   "outputs": [
    {
     "data": {
      "text/plain": [
       "['A Day at the Aquarium',\n",
       " 'Sprig Gets Schooled',\n",
       " 'The Plantars Check In',\n",
       " 'A Caravan Named Desires',\n",
       " 'A Night at The Inn',\n",
       " 'The Root of Evil',\n",
       " 'Sprig vs. Hop Pop',\n",
       " 'Flood, Sweat and Tears',\n",
       " 'The Sleepover to End All Sleepovers',\n",
       " 'The Big Bugball Game',\n",
       " 'Night Drivers',\n",
       " 'Croak and Punishment',\n",
       " 'Ivy on the Run',\n",
       " 'Bessie and MicroAngelo',\n",
       " 'The Core and the King',\n",
       " \"Barrel's Warhammer\",\n",
       " 'Hopping Mall',\n",
       " 'Prison Break',\n",
       " 'Sprivy',\n",
       " 'Anne vs. Wild',\n",
       " 'Toad to Redemption',\n",
       " 'Maddie and Marcy',\n",
       " 'Newts in Tights',\n",
       " 'Wally and Anne',\n",
       " 'Children of the Spore',\n",
       " 'Fiddle Me This',\n",
       " 'Anne of The Year',\n",
       " 'Bizarre Bazaar',\n",
       " 'Scavenger Hunt',\n",
       " \"Sasha's Angels\",\n",
       " 'Family Fishing Trip']"
      ]
     },
     "execution_count": 38,
     "metadata": {},
     "output_type": "execute_result"
    }
   ],
   "source": [
    "list(set(ratings_df[\"Title\"].tolist()) - set(cleaned_6[\"Title\"].tolist()))\n",
    "# in ratings_df\n",
    "# 'Flood, Sweat and Tears',\n",
    "# 'Sprig vs. Hop Pop',\n",
    "# 'Anne vs. Wild',\n",
    "# 'Croak and Punishment',\n",
    "# 'A Night at The Inn',\n",
    "# 'Anne of The Year',\n",
    "# 'A Caravan Named Desires',\n",
    "# 'Maddie and Marcy'"
   ]
  },
  {
   "cell_type": "markdown",
   "metadata": {},
   "source": [
    "# Clean the data from imdb and join again"
   ]
  },
  {
   "cell_type": "code",
   "execution_count": 39,
   "metadata": {},
   "outputs": [],
   "source": [
    "# replace the title in the ratings_df\n",
    "# need to map them by dictionary\n",
    "title_to_clean_list = [\n",
    "'Flood, Sweat and Tears',\n",
    "'Sprig vs. Hop Pop',\n",
    "'Anne vs. Wild',\n",
    "'Croak and Punishment',\n",
    "'A Night at The Inn',\n",
    "'Anne of The Year',\n",
    "'A Caravan Named Desires',\n",
    "'Maddie and Marcy'  \n",
    "]\n",
    "\n",
    "title_to_replace = ['Flood, Sweat & Tears', 'Sprig Vs. Hop Pop', 'Anne Vs. Wild',\n",
    "       'Croak & Punishment', 'A Night at the Inn', 'Anne of the Year',\n",
    "       'A Caravan Named Desire', 'Maddie & Marcy']\n",
    "\n",
    "title_dict = dict(zip(title_to_clean_list, title_to_replace))"
   ]
  },
  {
   "cell_type": "code",
   "execution_count": 42,
   "metadata": {},
   "outputs": [
    {
     "data": {
      "text/plain": [
       "{'Flood, Sweat and Tears': 'Flood, Sweat & Tears',\n",
       " 'Sprig vs. Hop Pop': 'Sprig Vs. Hop Pop',\n",
       " 'Anne vs. Wild': 'Anne Vs. Wild',\n",
       " 'Croak and Punishment': 'Croak & Punishment',\n",
       " 'A Night at The Inn': 'A Night at the Inn',\n",
       " 'Anne of The Year': 'Anne of the Year',\n",
       " 'A Caravan Named Desires': 'A Caravan Named Desire',\n",
       " 'Maddie and Marcy': 'Maddie & Marcy'}"
      ]
     },
     "execution_count": 42,
     "metadata": {},
     "output_type": "execute_result"
    }
   ],
   "source": [
    "title_dict"
   ]
  },
  {
   "cell_type": "code",
   "execution_count": 48,
   "metadata": {},
   "outputs": [],
   "source": [
    "ratings_df[\"Title\"].replace(title_dict, inplace=True)"
   ]
  },
  {
   "cell_type": "code",
   "execution_count": 50,
   "metadata": {},
   "outputs": [
    {
     "data": {
      "text/html": [
       "<div>\n",
       "<style scoped>\n",
       "    .dataframe tbody tr th:only-of-type {\n",
       "        vertical-align: middle;\n",
       "    }\n",
       "\n",
       "    .dataframe tbody tr th {\n",
       "        vertical-align: top;\n",
       "    }\n",
       "\n",
       "    .dataframe thead th {\n",
       "        text-align: right;\n",
       "    }\n",
       "</style>\n",
       "<table border=\"1\" class=\"dataframe\">\n",
       "  <thead>\n",
       "    <tr style=\"text-align: right;\">\n",
       "      <th></th>\n",
       "      <th>Speaker</th>\n",
       "      <th>Dialogue</th>\n",
       "      <th>Dialogue_num_in_eps</th>\n",
       "      <th>Episode_url</th>\n",
       "      <th>Episode #</th>\n",
       "      <th>Segment</th>\n",
       "      <th>Disney</th>\n",
       "      <th>Prod.</th>\n",
       "      <th>Title</th>\n",
       "      <th>Synopsis</th>\n",
       "      <th>Airdate</th>\n",
       "      <th>Viewers (millions)</th>\n",
       "      <th>Season</th>\n",
       "      <th>new_dialogue_index_in_eps</th>\n",
       "      <th>Ratings_imdb</th>\n",
       "      <th>Voter_count_imdb</th>\n",
       "    </tr>\n",
       "  </thead>\n",
       "  <tbody>\n",
       "    <tr>\n",
       "      <th>0</th>\n",
       "      <td>Hop Pop</td>\n",
       "      <td>Ho. Ho. (Turns around.) All right, kids I'm go...</td>\n",
       "      <td>16</td>\n",
       "      <td>https://amphibia.fandom.com/wiki/Anne_or_Beast...</td>\n",
       "      <td>1</td>\n",
       "      <td>1a</td>\n",
       "      <td>103</td>\n",
       "      <td>TBA</td>\n",
       "      <td>Anne or Beast?</td>\n",
       "      <td>Sprig tries to capture a mysterious beast to p...</td>\n",
       "      <td>June 17, 2019</td>\n",
       "      <td>0.39</td>\n",
       "      <td>1</td>\n",
       "      <td>1</td>\n",
       "      <td>7.8</td>\n",
       "      <td>472</td>\n",
       "    </tr>\n",
       "    <tr>\n",
       "      <th>1</th>\n",
       "      <td>Sprig</td>\n",
       "      <td>You got it, Hop Pop! I'll defend this cart wit...</td>\n",
       "      <td>17</td>\n",
       "      <td>https://amphibia.fandom.com/wiki/Anne_or_Beast...</td>\n",
       "      <td>1</td>\n",
       "      <td>1a</td>\n",
       "      <td>103</td>\n",
       "      <td>TBA</td>\n",
       "      <td>Anne or Beast?</td>\n",
       "      <td>Sprig tries to capture a mysterious beast to p...</td>\n",
       "      <td>June 17, 2019</td>\n",
       "      <td>0.39</td>\n",
       "      <td>1</td>\n",
       "      <td>2</td>\n",
       "      <td>7.8</td>\n",
       "      <td>472</td>\n",
       "    </tr>\n",
       "  </tbody>\n",
       "</table>\n",
       "</div>"
      ],
      "text/plain": [
       "   Speaker                                           Dialogue  \\\n",
       "0  Hop Pop  Ho. Ho. (Turns around.) All right, kids I'm go...   \n",
       "1    Sprig  You got it, Hop Pop! I'll defend this cart wit...   \n",
       "\n",
       "   Dialogue_num_in_eps                                        Episode_url  \\\n",
       "0                   16  https://amphibia.fandom.com/wiki/Anne_or_Beast...   \n",
       "1                   17  https://amphibia.fandom.com/wiki/Anne_or_Beast...   \n",
       "\n",
       "   Episode # Segment  Disney Prod.           Title  \\\n",
       "0          1      1a     103   TBA  Anne or Beast?   \n",
       "1          1      1a     103   TBA  Anne or Beast?   \n",
       "\n",
       "                                            Synopsis        Airdate  \\\n",
       "0  Sprig tries to capture a mysterious beast to p...  June 17, 2019   \n",
       "1  Sprig tries to capture a mysterious beast to p...  June 17, 2019   \n",
       "\n",
       "   Viewers (millions)  Season  new_dialogue_index_in_eps  Ratings_imdb  \\\n",
       "0                0.39       1                          1           7.8   \n",
       "1                0.39       1                          2           7.8   \n",
       "\n",
       "  Voter_count_imdb  \n",
       "0              472  \n",
       "1              472  "
      ]
     },
     "execution_count": 50,
     "metadata": {},
     "output_type": "execute_result"
    }
   ],
   "source": [
    "# join again\n",
    "cleaned_8 = cleaned_6.merge(ratings_df[ratings_df_cols], how=\"left\", on=\"Title\")\n",
    "cleaned_8.head(2)"
   ]
  },
  {
   "cell_type": "code",
   "execution_count": 51,
   "metadata": {},
   "outputs": [
    {
     "data": {
      "text/plain": [
       "False"
      ]
     },
     "execution_count": 51,
     "metadata": {},
     "output_type": "execute_result"
    }
   ],
   "source": [
    "# find any null\n",
    "cleaned_8[\"Ratings_imdb\"].isna().values.any()"
   ]
  },
  {
   "cell_type": "code",
   "execution_count": 52,
   "metadata": {},
   "outputs": [],
   "source": [
    "cleaned_8.to_excel(\"final_cleaned.xlsx\", index=False)"
   ]
  }
 ],
 "metadata": {
  "kernelspec": {
   "display_name": "Python 3",
   "language": "python",
   "name": "python3"
  },
  "language_info": {
   "codemirror_mode": {
    "name": "ipython",
    "version": 3
   },
   "file_extension": ".py",
   "mimetype": "text/x-python",
   "name": "python",
   "nbconvert_exporter": "python",
   "pygments_lexer": "ipython3",
   "version": "3.7.4"
  }
 },
 "nbformat": 4,
 "nbformat_minor": 4
}
